{
 "cells": [
  {
   "cell_type": "code",
   "execution_count": 1,
   "id": "1b5ea286",
   "metadata": {},
   "outputs": [],
   "source": [
    "import pandas as pd\n",
    "import matplotlib.pyplot as plt\n",
    "import seaborn as sns"
   ]
  },
  {
   "cell_type": "code",
   "execution_count": 2,
   "id": "406cdd2e",
   "metadata": {},
   "outputs": [],
   "source": [
    "data = pd.read_excel('Historical_data.xlsx')"
   ]
  },
  {
   "cell_type": "code",
   "execution_count": 3,
   "id": "1a63c9ce",
   "metadata": {},
   "outputs": [
    {
     "data": {
      "text/html": [
       "<div>\n",
       "<style scoped>\n",
       "    .dataframe tbody tr th:only-of-type {\n",
       "        vertical-align: middle;\n",
       "    }\n",
       "\n",
       "    .dataframe tbody tr th {\n",
       "        vertical-align: top;\n",
       "    }\n",
       "\n",
       "    .dataframe thead th {\n",
       "        text-align: right;\n",
       "    }\n",
       "</style>\n",
       "<table border=\"1\" class=\"dataframe\">\n",
       "  <thead>\n",
       "    <tr style=\"text-align: right;\">\n",
       "      <th></th>\n",
       "      <th>customer_id</th>\n",
       "      <th>customer_age</th>\n",
       "      <th>job_type</th>\n",
       "      <th>marital</th>\n",
       "      <th>education</th>\n",
       "      <th>default</th>\n",
       "      <th>balance</th>\n",
       "      <th>housing_loan</th>\n",
       "      <th>personal_loan</th>\n",
       "      <th>communication_type</th>\n",
       "      <th>day_of_month</th>\n",
       "      <th>month</th>\n",
       "      <th>last_contact_duration</th>\n",
       "      <th>num_contacts_in_campaign</th>\n",
       "      <th>num_contacts_prev_campaign</th>\n",
       "      <th>prev_campaign_outcome</th>\n",
       "      <th>term_deposit_subscribed</th>\n",
       "    </tr>\n",
       "  </thead>\n",
       "  <tbody>\n",
       "    <tr>\n",
       "      <th>0</th>\n",
       "      <td>id_32289</td>\n",
       "      <td>34.0</td>\n",
       "      <td>blue-collar</td>\n",
       "      <td>married</td>\n",
       "      <td>secondary</td>\n",
       "      <td>no</td>\n",
       "      <td>934.0</td>\n",
       "      <td>no</td>\n",
       "      <td>yes</td>\n",
       "      <td>cellular</td>\n",
       "      <td>18</td>\n",
       "      <td>nov</td>\n",
       "      <td>704</td>\n",
       "      <td>2.0</td>\n",
       "      <td>1</td>\n",
       "      <td>other</td>\n",
       "      <td>0</td>\n",
       "    </tr>\n",
       "    <tr>\n",
       "      <th>1</th>\n",
       "      <td>id_40992</td>\n",
       "      <td>41.0</td>\n",
       "      <td>blue-collar</td>\n",
       "      <td>married</td>\n",
       "      <td>primary</td>\n",
       "      <td>no</td>\n",
       "      <td>1352.0</td>\n",
       "      <td>yes</td>\n",
       "      <td>no</td>\n",
       "      <td>cellular</td>\n",
       "      <td>13</td>\n",
       "      <td>may</td>\n",
       "      <td>893</td>\n",
       "      <td>2.0</td>\n",
       "      <td>0</td>\n",
       "      <td>unknown</td>\n",
       "      <td>0</td>\n",
       "    </tr>\n",
       "    <tr>\n",
       "      <th>2</th>\n",
       "      <td>id_41178</td>\n",
       "      <td>57.0</td>\n",
       "      <td>blue-collar</td>\n",
       "      <td>married</td>\n",
       "      <td>primary</td>\n",
       "      <td>no</td>\n",
       "      <td>495.0</td>\n",
       "      <td>no</td>\n",
       "      <td>no</td>\n",
       "      <td>cellular</td>\n",
       "      <td>18</td>\n",
       "      <td>aug</td>\n",
       "      <td>796</td>\n",
       "      <td>4.0</td>\n",
       "      <td>0</td>\n",
       "      <td>unknown</td>\n",
       "      <td>1</td>\n",
       "    </tr>\n",
       "    <tr>\n",
       "      <th>3</th>\n",
       "      <td>id_35102</td>\n",
       "      <td>37.0</td>\n",
       "      <td>management</td>\n",
       "      <td>married</td>\n",
       "      <td>tertiary</td>\n",
       "      <td>no</td>\n",
       "      <td>650.0</td>\n",
       "      <td>yes</td>\n",
       "      <td>NaN</td>\n",
       "      <td>unknown</td>\n",
       "      <td>26</td>\n",
       "      <td>may</td>\n",
       "      <td>880</td>\n",
       "      <td>1.0</td>\n",
       "      <td>0</td>\n",
       "      <td>unknown</td>\n",
       "      <td>0</td>\n",
       "    </tr>\n",
       "    <tr>\n",
       "      <th>4</th>\n",
       "      <td>id_34750</td>\n",
       "      <td>29.0</td>\n",
       "      <td>technician</td>\n",
       "      <td>married</td>\n",
       "      <td>secondary</td>\n",
       "      <td>no</td>\n",
       "      <td>265.0</td>\n",
       "      <td>yes</td>\n",
       "      <td>no</td>\n",
       "      <td>cellular</td>\n",
       "      <td>19</td>\n",
       "      <td>aug</td>\n",
       "      <td>795</td>\n",
       "      <td>2.0</td>\n",
       "      <td>0</td>\n",
       "      <td>unknown</td>\n",
       "      <td>0</td>\n",
       "    </tr>\n",
       "  </tbody>\n",
       "</table>\n",
       "</div>"
      ],
      "text/plain": [
       "  customer_id  customer_age     job_type  marital  education default  balance  \\\n",
       "0    id_32289          34.0  blue-collar  married  secondary      no    934.0   \n",
       "1    id_40992          41.0  blue-collar  married    primary      no   1352.0   \n",
       "2    id_41178          57.0  blue-collar  married    primary      no    495.0   \n",
       "3    id_35102          37.0   management  married   tertiary      no    650.0   \n",
       "4    id_34750          29.0   technician  married  secondary      no    265.0   \n",
       "\n",
       "  housing_loan personal_loan communication_type  day_of_month month  \\\n",
       "0           no           yes           cellular            18   nov   \n",
       "1          yes            no           cellular            13   may   \n",
       "2           no            no           cellular            18   aug   \n",
       "3          yes           NaN            unknown            26   may   \n",
       "4          yes            no           cellular            19   aug   \n",
       "\n",
       "   last_contact_duration  num_contacts_in_campaign  \\\n",
       "0                    704                       2.0   \n",
       "1                    893                       2.0   \n",
       "2                    796                       4.0   \n",
       "3                    880                       1.0   \n",
       "4                    795                       2.0   \n",
       "\n",
       "   num_contacts_prev_campaign prev_campaign_outcome  term_deposit_subscribed  \n",
       "0                           1                 other                        0  \n",
       "1                           0               unknown                        0  \n",
       "2                           0               unknown                        1  \n",
       "3                           0               unknown                        0  \n",
       "4                           0               unknown                        0  "
      ]
     },
     "execution_count": 3,
     "metadata": {},
     "output_type": "execute_result"
    }
   ],
   "source": [
    "data.head()"
   ]
  },
  {
   "cell_type": "code",
   "execution_count": 4,
   "id": "d4ee24aa",
   "metadata": {
    "scrolled": true
   },
   "outputs": [
    {
     "name": "stderr",
     "output_type": "stream",
     "text": [
      "C:\\Users\\ASUS\\anaconda3\\lib\\site-packages\\seaborn\\_decorators.py:36: FutureWarning: Pass the following variable as a keyword arg: x. From version 0.12, the only valid positional argument will be `data`, and passing other arguments without an explicit keyword will result in an error or misinterpretation.\n",
      "  warnings.warn(\n"
     ]
    },
    {
     "data": {
      "text/plain": [
       "<AxesSubplot:xlabel='term_deposit_subscribed', ylabel='count'>"
      ]
     },
     "execution_count": 4,
     "metadata": {},
     "output_type": "execute_result"
    },
    {
     "data": {
      "image/png": "[encoded data removed]",
      "text/plain": [
       "<Figure size 432x288 with 1 Axes>"
      ]
     },
     "metadata": {
      "needs_background": "light"
     },
     "output_type": "display_data"
    }
   ],
   "source": [
    "sns.countplot(data['term_deposit_subscribed'])"
   ]
  },
  {
   "cell_type": "code",
   "execution_count": 5,
   "id": "3dff2ccc",
   "metadata": {},
   "outputs": [
    {
     "name": "stdout",
     "output_type": "stream",
     "text": [
      "<class 'pandas.core.frame.DataFrame'>\n",
      "RangeIndex: 23880 entries, 0 to 23879\n",
      "Data columns (total 17 columns):\n",
      " #   Column                      Non-Null Count  Dtype  \n",
      "---  ------                      --------------  -----  \n",
      " 0   customer_id                 23880 non-null  object \n",
      " 1   customer_age                23403 non-null  float64\n",
      " 2   job_type                    23880 non-null  object \n",
      " 3   marital                     23773 non-null  object \n",
      " 4   education                   23880 non-null  object \n",
      " 5   default                     23880 non-null  object \n",
      " 6   balance                     23603 non-null  float64\n",
      " 7   housing_loan                23880 non-null  object \n",
      " 8   personal_loan               23767 non-null  object \n",
      " 9   communication_type          23880 non-null  object \n",
      " 10  day_of_month                23880 non-null  int64  \n",
      " 11  month                       23880 non-null  object \n",
      " 12  last_contact_duration       23880 non-null  int64  \n",
      " 13  num_contacts_in_campaign    23784 non-null  float64\n",
      " 14  num_contacts_prev_campaign  23880 non-null  int64  \n",
      " 15  prev_campaign_outcome       23880 non-null  object \n",
      " 16  term_deposit_subscribed     23880 non-null  int64  \n",
      "dtypes: float64(3), int64(4), object(10)\n",
      "memory usage: 3.1+ MB\n"
     ]
    }
   ],
   "source": [
    "data.info()"
   ]
  },
  {
   "cell_type": "code",
   "execution_count": 6,
   "id": "9f6a87e0",
   "metadata": {},
   "outputs": [
    {
     "data": {
      "text/html": [
       "<div>\n",
       "<style scoped>\n",
       "    .dataframe tbody tr th:only-of-type {\n",
       "        vertical-align: middle;\n",
       "    }\n",
       "\n",
       "    .dataframe tbody tr th {\n",
       "        vertical-align: top;\n",
       "    }\n",
       "\n",
       "    .dataframe thead th {\n",
       "        text-align: right;\n",
       "    }\n",
       "</style>\n",
       "<table border=\"1\" class=\"dataframe\">\n",
       "  <thead>\n",
       "    <tr style=\"text-align: right;\">\n",
       "      <th></th>\n",
       "      <th>count</th>\n",
       "      <th>mean</th>\n",
       "      <th>std</th>\n",
       "      <th>min</th>\n",
       "      <th>25%</th>\n",
       "      <th>50%</th>\n",
       "      <th>75%</th>\n",
       "      <th>max</th>\n",
       "    </tr>\n",
       "  </thead>\n",
       "  <tbody>\n",
       "    <tr>\n",
       "      <th>customer_age</th>\n",
       "      <td>23403.0</td>\n",
       "      <td>40.394821</td>\n",
       "      <td>10.753045</td>\n",
       "      <td>18.0</td>\n",
       "      <td>32.0</td>\n",
       "      <td>38.0</td>\n",
       "      <td>48.0</td>\n",
       "      <td>93.0</td>\n",
       "    </tr>\n",
       "    <tr>\n",
       "      <th>balance</th>\n",
       "      <td>23603.0</td>\n",
       "      <td>1363.966106</td>\n",
       "      <td>3019.583085</td>\n",
       "      <td>-8020.0</td>\n",
       "      <td>71.0</td>\n",
       "      <td>443.0</td>\n",
       "      <td>1410.5</td>\n",
       "      <td>98419.0</td>\n",
       "    </tr>\n",
       "    <tr>\n",
       "      <th>day_of_month</th>\n",
       "      <td>23880.0</td>\n",
       "      <td>15.796315</td>\n",
       "      <td>8.321136</td>\n",
       "      <td>1.0</td>\n",
       "      <td>8.0</td>\n",
       "      <td>16.0</td>\n",
       "      <td>21.0</td>\n",
       "      <td>31.0</td>\n",
       "    </tr>\n",
       "    <tr>\n",
       "      <th>last_contact_duration</th>\n",
       "      <td>23880.0</td>\n",
       "      <td>854.879648</td>\n",
       "      <td>74.537616</td>\n",
       "      <td>661.0</td>\n",
       "      <td>809.0</td>\n",
       "      <td>871.0</td>\n",
       "      <td>897.0</td>\n",
       "      <td>1019.0</td>\n",
       "    </tr>\n",
       "    <tr>\n",
       "      <th>num_contacts_in_campaign</th>\n",
       "      <td>23784.0</td>\n",
       "      <td>2.775353</td>\n",
       "      <td>3.148117</td>\n",
       "      <td>1.0</td>\n",
       "      <td>1.0</td>\n",
       "      <td>2.0</td>\n",
       "      <td>3.0</td>\n",
       "      <td>63.0</td>\n",
       "    </tr>\n",
       "    <tr>\n",
       "      <th>num_contacts_prev_campaign</th>\n",
       "      <td>23880.0</td>\n",
       "      <td>0.583836</td>\n",
       "      <td>2.624465</td>\n",
       "      <td>0.0</td>\n",
       "      <td>0.0</td>\n",
       "      <td>0.0</td>\n",
       "      <td>0.0</td>\n",
       "      <td>275.0</td>\n",
       "    </tr>\n",
       "    <tr>\n",
       "      <th>term_deposit_subscribed</th>\n",
       "      <td>23880.0</td>\n",
       "      <td>0.106198</td>\n",
       "      <td>0.308097</td>\n",
       "      <td>0.0</td>\n",
       "      <td>0.0</td>\n",
       "      <td>0.0</td>\n",
       "      <td>0.0</td>\n",
       "      <td>1.0</td>\n",
       "    </tr>\n",
       "  </tbody>\n",
       "</table>\n",
       "</div>"
      ],
      "text/plain": [
       "                              count         mean          std     min    25%  \\\n",
       "customer_age                23403.0    40.394821    10.753045    18.0   32.0   \n",
       "balance                     23603.0  1363.966106  3019.583085 -8020.0   71.0   \n",
       "day_of_month                23880.0    15.796315     8.321136     1.0    8.0   \n",
       "last_contact_duration       23880.0   854.879648    74.537616   661.0  809.0   \n",
       "num_contacts_in_campaign    23784.0     2.775353     3.148117     1.0    1.0   \n",
       "num_contacts_prev_campaign  23880.0     0.583836     2.624465     0.0    0.0   \n",
       "term_deposit_subscribed     23880.0     0.106198     0.308097     0.0    0.0   \n",
       "\n",
       "                              50%     75%      max  \n",
       "customer_age                 38.0    48.0     93.0  \n",
       "balance                     443.0  1410.5  98419.0  \n",
       "day_of_month                 16.0    21.0     31.0  \n",
       "last_contact_duration       871.0   897.0   1019.0  \n",
       "num_contacts_in_campaign      2.0     3.0     63.0  \n",
       "num_contacts_prev_campaign    0.0     0.0    275.0  \n",
       "term_deposit_subscribed       0.0     0.0      1.0  "
      ]
     },
     "execution_count": 6,
     "metadata": {},
     "output_type": "execute_result"
    }
   ],
   "source": [
    "data.describe().transpose()"
   ]
  },
  {
   "cell_type": "code",
   "execution_count": 7,
   "id": "c4c34b24",
   "metadata": {},
   "outputs": [
    {
     "data": {
      "text/plain": [
       "<seaborn.axisgrid.PairGrid at 0x1188d7548e0>"
      ]
     },
     "execution_count": 7,
     "metadata": {},
     "output_type": "execute_result"
    },
    {
     "data": {
      "image/png": "[encoded data removed]",
      "text/plain": [
       "<Figure size 180x180 with 2 Axes>"
      ]
     },
     "metadata": {
      "needs_background": "light"
     },
     "output_type": "display_data"
    }
   ],
   "source": [
    "sns.pairplot(data[['customer_age']])"
   ]
  },
  {
   "cell_type": "code",
   "execution_count": 8,
   "id": "3eb3dd7f",
   "metadata": {},
   "outputs": [],
   "source": [
    "#customer age is skewed .\n",
    "#other column is not that much skewed and they are manageable\n"
   ]
  },
  {
   "cell_type": "code",
   "execution_count": 9,
   "id": "ec10e95b",
   "metadata": {},
   "outputs": [
    {
     "data": {
      "text/plain": [
       "<AxesSubplot:>"
      ]
     },
     "execution_count": 9,
     "metadata": {},
     "output_type": "execute_result"
    },
    {
     "data": {
      "image/png": "[encoded data removed]",
      "text/plain": [
       "<Figure size 432x288 with 2 Axes>"
      ]
     },
     "metadata": {
      "needs_background": "light"
     },
     "output_type": "display_data"
    }
   ],
   "source": [
    "sns.heatmap(data.isnull())"
   ]
  },
  {
   "cell_type": "code",
   "execution_count": 10,
   "id": "5b01664e",
   "metadata": {},
   "outputs": [
    {
     "name": "stdout",
     "output_type": "stream",
     "text": [
      "<class 'pandas.core.frame.DataFrame'>\n",
      "Int64Index: 23773 entries, 0 to 23879\n",
      "Data columns (total 17 columns):\n",
      " #   Column                      Non-Null Count  Dtype  \n",
      "---  ------                      --------------  -----  \n",
      " 0   customer_id                 23773 non-null  object \n",
      " 1   customer_age                23300 non-null  float64\n",
      " 2   job_type                    23773 non-null  object \n",
      " 3   marital                     23773 non-null  object \n",
      " 4   education                   23773 non-null  object \n",
      " 5   default                     23773 non-null  object \n",
      " 6   balance                     23500 non-null  float64\n",
      " 7   housing_loan                23773 non-null  object \n",
      " 8   personal_loan               23660 non-null  object \n",
      " 9   communication_type          23773 non-null  object \n",
      " 10  day_of_month                23773 non-null  int64  \n",
      " 11  month                       23773 non-null  object \n",
      " 12  last_contact_duration       23773 non-null  int64  \n",
      " 13  num_contacts_in_campaign    23677 non-null  float64\n",
      " 14  num_contacts_prev_campaign  23773 non-null  int64  \n",
      " 15  prev_campaign_outcome       23773 non-null  object \n",
      " 16  term_deposit_subscribed     23773 non-null  int64  \n",
      "dtypes: float64(3), int64(4), object(10)\n",
      "memory usage: 3.3+ MB\n"
     ]
    }
   ],
   "source": [
    "data = data.dropna(subset = ['marital'])\n",
    "data.info()"
   ]
  },
  {
   "cell_type": "markdown",
   "id": "6e754d72",
   "metadata": {},
   "source": [
    "# Treating Null value "
   ]
  },
  {
   "cell_type": "markdown",
   "id": "65d19080",
   "metadata": {},
   "source": [
    "#Treating Customer age column on the basis of their job type."
   ]
  },
  {
   "cell_type": "code",
   "execution_count": 11,
   "id": "de57b790",
   "metadata": {},
   "outputs": [
    {
     "data": {
      "text/plain": [
       "<AxesSubplot:xlabel='job_type', ylabel='customer_age'>"
      ]
     },
     "execution_count": 11,
     "metadata": {},
     "output_type": "execute_result"
    },
    {
     "data": {
      "image/png": "[encoded data removed]",
      "text/plain": [
       "<Figure size 1080x576 with 1 Axes>"
      ]
     },
     "metadata": {
      "needs_background": "light"
     },
     "output_type": "display_data"
    }
   ],
   "source": [
    "plt.figure(figsize = (15,8))\n",
    "sns.boxplot(x = 'job_type', y = 'customer_age', data = data)"
   ]
  },
  {
   "cell_type": "code",
   "execution_count": 12,
   "id": "7fb6d7d5",
   "metadata": {},
   "outputs": [],
   "source": [
    "def age(cols):\n",
    "    age = cols[0]\n",
    "    jobtype = cols[1]\n",
    "    \n",
    "    if pd.isnull(age):\n",
    "        \n",
    "        if jobtype  in ['blue-collar','management','technician','service']:\n",
    "            return 38\n",
    "        elif jobtype == 'retired':\n",
    "            return 60\n",
    "        elif jobtype == 'enterpreneur':\n",
    "            return 40\n",
    "        elif jobtype == 'admin':\n",
    "            return 36\n",
    "        elif jobtype == 'student':\n",
    "            return 25\n",
    "        elif jobtype in ['housesmaid','unknown']:\n",
    "            return 45\n",
    "        else :\n",
    "            return 38\n",
    "    \n",
    "    else:\n",
    "        return age \n",
    "    "
   ]
  },
  {
   "cell_type": "code",
   "execution_count": 13,
   "id": "a9676c83",
   "metadata": {},
   "outputs": [],
   "source": [
    "data['customer_age'] = data[['customer_age','job_type']].apply(age,axis = 1)"
   ]
  },
  {
   "cell_type": "markdown",
   "id": "4b076157",
   "metadata": {},
   "source": [
    "#Droping remaing null values.\n"
   ]
  },
  {
   "cell_type": "code",
   "execution_count": 14,
   "id": "7e7438b5",
   "metadata": {},
   "outputs": [
    {
     "data": {
      "text/plain": [
       "<AxesSubplot:>"
      ]
     },
     "execution_count": 14,
     "metadata": {},
     "output_type": "execute_result"
    },
    {
     "data": {
      "image/png": "[encoded data removed]",
      "text/plain": [
       "<Figure size 432x288 with 2 Axes>"
      ]
     },
     "metadata": {
      "needs_background": "light"
     },
     "output_type": "display_data"
    }
   ],
   "source": [
    "sns.heatmap(data.isnull())"
   ]
  },
  {
   "cell_type": "code",
   "execution_count": 15,
   "id": "ab33b3be",
   "metadata": {},
   "outputs": [],
   "source": [
    " data.dropna(inplace = True)"
   ]
  },
  {
   "cell_type": "code",
   "execution_count": 16,
   "id": "2038c59a",
   "metadata": {},
   "outputs": [
    {
     "data": {
      "text/plain": [
       "<AxesSubplot:>"
      ]
     },
     "execution_count": 16,
     "metadata": {},
     "output_type": "execute_result"
    },
    {
     "data": {
      "image/png": "[encoded data removed]",
      "text/plain": [
       "<Figure size 432x288 with 2 Axes>"
      ]
     },
     "metadata": {
      "needs_background": "light"
     },
     "output_type": "display_data"
    }
   ],
   "source": [
    "sns.heatmap(data.isnull())"
   ]
  },
  {
   "cell_type": "markdown",
   "id": "ccea0f4c",
   "metadata": {},
   "source": [
    "# Treating categorical variable."
   ]
  },
  {
   "cell_type": "code",
   "execution_count": 17,
   "id": "b727dff6",
   "metadata": {},
   "outputs": [
    {
     "name": "stdout",
     "output_type": "stream",
     "text": [
      "<class 'pandas.core.frame.DataFrame'>\n",
      "Int64Index: 23291 entries, 0 to 23879\n",
      "Data columns (total 17 columns):\n",
      " #   Column                      Non-Null Count  Dtype  \n",
      "---  ------                      --------------  -----  \n",
      " 0   customer_id                 23291 non-null  object \n",
      " 1   customer_age                23291 non-null  float64\n",
      " 2   job_type                    23291 non-null  object \n",
      " 3   marital                     23291 non-null  object \n",
      " 4   education                   23291 non-null  object \n",
      " 5   default                     23291 non-null  object \n",
      " 6   balance                     23291 non-null  float64\n",
      " 7   housing_loan                23291 non-null  object \n",
      " 8   personal_loan               23291 non-null  object \n",
      " 9   communication_type          23291 non-null  object \n",
      " 10  day_of_month                23291 non-null  int64  \n",
      " 11  month                       23291 non-null  object \n",
      " 12  last_contact_duration       23291 non-null  int64  \n",
      " 13  num_contacts_in_campaign    23291 non-null  float64\n",
      " 14  num_contacts_prev_campaign  23291 non-null  int64  \n",
      " 15  prev_campaign_outcome       23291 non-null  object \n",
      " 16  term_deposit_subscribed     23291 non-null  int64  \n",
      "dtypes: float64(3), int64(4), object(10)\n",
      "memory usage: 3.2+ MB\n"
     ]
    }
   ],
   "source": [
    "data.info()"
   ]
  },
  {
   "cell_type": "code",
   "execution_count": 18,
   "id": "24ffd4fd",
   "metadata": {},
   "outputs": [
    {
     "name": "stdout",
     "output_type": "stream",
     "text": [
      "<class 'pandas.core.frame.DataFrame'>\n",
      "Int64Index: 23291 entries, 0 to 23879\n",
      "Data columns (total 43 columns):\n",
      " #   Column                         Non-Null Count  Dtype  \n",
      "---  ------                         --------------  -----  \n",
      " 0   customer_id                    23291 non-null  object \n",
      " 1   customer_age                   23291 non-null  float64\n",
      " 2   balance                        23291 non-null  float64\n",
      " 3   day_of_month                   23291 non-null  int64  \n",
      " 4   last_contact_duration          23291 non-null  int64  \n",
      " 5   num_contacts_in_campaign       23291 non-null  float64\n",
      " 6   num_contacts_prev_campaign     23291 non-null  int64  \n",
      " 7   term_deposit_subscribed        23291 non-null  int64  \n",
      " 8   job_type_blue-collar           23291 non-null  uint8  \n",
      " 9   job_type_entrepreneur          23291 non-null  uint8  \n",
      " 10  job_type_housemaid             23291 non-null  uint8  \n",
      " 11  job_type_management            23291 non-null  uint8  \n",
      " 12  job_type_retired               23291 non-null  uint8  \n",
      " 13  job_type_self-employed         23291 non-null  uint8  \n",
      " 14  job_type_services              23291 non-null  uint8  \n",
      " 15  job_type_student               23291 non-null  uint8  \n",
      " 16  job_type_technician            23291 non-null  uint8  \n",
      " 17  job_type_unemployed            23291 non-null  uint8  \n",
      " 18  job_type_unknown               23291 non-null  uint8  \n",
      " 19  marital_married                23291 non-null  uint8  \n",
      " 20  marital_single                 23291 non-null  uint8  \n",
      " 21  education_secondary            23291 non-null  uint8  \n",
      " 22  education_tertiary             23291 non-null  uint8  \n",
      " 23  education_unknown              23291 non-null  uint8  \n",
      " 24  default_yes                    23291 non-null  uint8  \n",
      " 25  housing_loan_yes               23291 non-null  uint8  \n",
      " 26  personal_loan_yes              23291 non-null  uint8  \n",
      " 27  communication_type_telephone   23291 non-null  uint8  \n",
      " 28  communication_type_unknown     23291 non-null  uint8  \n",
      " 29  month_aug                      23291 non-null  uint8  \n",
      " 30  month_dec                      23291 non-null  uint8  \n",
      " 31  month_feb                      23291 non-null  uint8  \n",
      " 32  month_jan                      23291 non-null  uint8  \n",
      " 33  month_jul                      23291 non-null  uint8  \n",
      " 34  month_jun                      23291 non-null  uint8  \n",
      " 35  month_mar                      23291 non-null  uint8  \n",
      " 36  month_may                      23291 non-null  uint8  \n",
      " 37  month_nov                      23291 non-null  uint8  \n",
      " 38  month_oct                      23291 non-null  uint8  \n",
      " 39  month_sep                      23291 non-null  uint8  \n",
      " 40  prev_campaign_outcome_other    23291 non-null  uint8  \n",
      " 41  prev_campaign_outcome_success  23291 non-null  uint8  \n",
      " 42  prev_campaign_outcome_unknown  23291 non-null  uint8  \n",
      "dtypes: float64(3), int64(4), object(1), uint8(35)\n",
      "memory usage: 2.4+ MB\n"
     ]
    }
   ],
   "source": [
    "Transdata = pd.get_dummies(data,columns = ['job_type','marital','education','default','housing_loan','personal_loan','communication_type','month','prev_campaign_outcome'], drop_first = True)\n",
    "Transdata.info()"
   ]
  },
  {
   "cell_type": "markdown",
   "id": "e473892d",
   "metadata": {},
   "source": [
    "# seperate independent and dependent feature."
   ]
  },
  {
   "cell_type": "code",
   "execution_count": 19,
   "id": "795861ff",
   "metadata": {},
   "outputs": [],
   "source": [
    "y = Transdata[['term_deposit_subscribed']]"
   ]
  },
  {
   "cell_type": "code",
   "execution_count": 20,
   "id": "fb4e3dea",
   "metadata": {},
   "outputs": [
    {
     "data": {
      "text/html": [
       "<div>\n",
       "<style scoped>\n",
       "    .dataframe tbody tr th:only-of-type {\n",
       "        vertical-align: middle;\n",
       "    }\n",
       "\n",
       "    .dataframe tbody tr th {\n",
       "        vertical-align: top;\n",
       "    }\n",
       "\n",
       "    .dataframe thead th {\n",
       "        text-align: right;\n",
       "    }\n",
       "</style>\n",
       "<table border=\"1\" class=\"dataframe\">\n",
       "  <thead>\n",
       "    <tr style=\"text-align: right;\">\n",
       "      <th></th>\n",
       "      <th>term_deposit_subscribed</th>\n",
       "    </tr>\n",
       "  </thead>\n",
       "  <tbody>\n",
       "    <tr>\n",
       "      <th>0</th>\n",
       "      <td>0</td>\n",
       "    </tr>\n",
       "    <tr>\n",
       "      <th>1</th>\n",
       "      <td>0</td>\n",
       "    </tr>\n",
       "    <tr>\n",
       "      <th>2</th>\n",
       "      <td>1</td>\n",
       "    </tr>\n",
       "    <tr>\n",
       "      <th>4</th>\n",
       "      <td>0</td>\n",
       "    </tr>\n",
       "    <tr>\n",
       "      <th>5</th>\n",
       "      <td>0</td>\n",
       "    </tr>\n",
       "  </tbody>\n",
       "</table>\n",
       "</div>"
      ],
      "text/plain": [
       "   term_deposit_subscribed\n",
       "0                        0\n",
       "1                        0\n",
       "2                        1\n",
       "4                        0\n",
       "5                        0"
      ]
     },
     "execution_count": 20,
     "metadata": {},
     "output_type": "execute_result"
    }
   ],
   "source": [
    "y.head()"
   ]
  },
  {
   "cell_type": "code",
   "execution_count": 21,
   "id": "7a6ab5d2",
   "metadata": {},
   "outputs": [],
   "source": [
    "x = Transdata.drop(['term_deposit_subscribed','customer_id'],axis = 1)"
   ]
  },
  {
   "cell_type": "code",
   "execution_count": 22,
   "id": "77caa751",
   "metadata": {},
   "outputs": [
    {
     "data": {
      "text/html": [
       "<div>\n",
       "<style scoped>\n",
       "    .dataframe tbody tr th:only-of-type {\n",
       "        vertical-align: middle;\n",
       "    }\n",
       "\n",
       "    .dataframe tbody tr th {\n",
       "        vertical-align: top;\n",
       "    }\n",
       "\n",
       "    .dataframe thead th {\n",
       "        text-align: right;\n",
       "    }\n",
       "</style>\n",
       "<table border=\"1\" class=\"dataframe\">\n",
       "  <thead>\n",
       "    <tr style=\"text-align: right;\">\n",
       "      <th></th>\n",
       "      <th>customer_age</th>\n",
       "      <th>balance</th>\n",
       "      <th>day_of_month</th>\n",
       "      <th>last_contact_duration</th>\n",
       "      <th>num_contacts_in_campaign</th>\n",
       "      <th>num_contacts_prev_campaign</th>\n",
       "      <th>job_type_blue-collar</th>\n",
       "      <th>job_type_entrepreneur</th>\n",
       "      <th>job_type_housemaid</th>\n",
       "      <th>job_type_management</th>\n",
       "      <th>...</th>\n",
       "      <th>month_jul</th>\n",
       "      <th>month_jun</th>\n",
       "      <th>month_mar</th>\n",
       "      <th>month_may</th>\n",
       "      <th>month_nov</th>\n",
       "      <th>month_oct</th>\n",
       "      <th>month_sep</th>\n",
       "      <th>prev_campaign_outcome_other</th>\n",
       "      <th>prev_campaign_outcome_success</th>\n",
       "      <th>prev_campaign_outcome_unknown</th>\n",
       "    </tr>\n",
       "  </thead>\n",
       "  <tbody>\n",
       "    <tr>\n",
       "      <th>0</th>\n",
       "      <td>34.0</td>\n",
       "      <td>934.0</td>\n",
       "      <td>18</td>\n",
       "      <td>704</td>\n",
       "      <td>2.0</td>\n",
       "      <td>1</td>\n",
       "      <td>1</td>\n",
       "      <td>0</td>\n",
       "      <td>0</td>\n",
       "      <td>0</td>\n",
       "      <td>...</td>\n",
       "      <td>0</td>\n",
       "      <td>0</td>\n",
       "      <td>0</td>\n",
       "      <td>0</td>\n",
       "      <td>1</td>\n",
       "      <td>0</td>\n",
       "      <td>0</td>\n",
       "      <td>1</td>\n",
       "      <td>0</td>\n",
       "      <td>0</td>\n",
       "    </tr>\n",
       "    <tr>\n",
       "      <th>1</th>\n",
       "      <td>41.0</td>\n",
       "      <td>1352.0</td>\n",
       "      <td>13</td>\n",
       "      <td>893</td>\n",
       "      <td>2.0</td>\n",
       "      <td>0</td>\n",
       "      <td>1</td>\n",
       "      <td>0</td>\n",
       "      <td>0</td>\n",
       "      <td>0</td>\n",
       "      <td>...</td>\n",
       "      <td>0</td>\n",
       "      <td>0</td>\n",
       "      <td>0</td>\n",
       "      <td>1</td>\n",
       "      <td>0</td>\n",
       "      <td>0</td>\n",
       "      <td>0</td>\n",
       "      <td>0</td>\n",
       "      <td>0</td>\n",
       "      <td>1</td>\n",
       "    </tr>\n",
       "    <tr>\n",
       "      <th>2</th>\n",
       "      <td>57.0</td>\n",
       "      <td>495.0</td>\n",
       "      <td>18</td>\n",
       "      <td>796</td>\n",
       "      <td>4.0</td>\n",
       "      <td>0</td>\n",
       "      <td>1</td>\n",
       "      <td>0</td>\n",
       "      <td>0</td>\n",
       "      <td>0</td>\n",
       "      <td>...</td>\n",
       "      <td>0</td>\n",
       "      <td>0</td>\n",
       "      <td>0</td>\n",
       "      <td>0</td>\n",
       "      <td>0</td>\n",
       "      <td>0</td>\n",
       "      <td>0</td>\n",
       "      <td>0</td>\n",
       "      <td>0</td>\n",
       "      <td>1</td>\n",
       "    </tr>\n",
       "    <tr>\n",
       "      <th>4</th>\n",
       "      <td>29.0</td>\n",
       "      <td>265.0</td>\n",
       "      <td>19</td>\n",
       "      <td>795</td>\n",
       "      <td>2.0</td>\n",
       "      <td>0</td>\n",
       "      <td>0</td>\n",
       "      <td>0</td>\n",
       "      <td>0</td>\n",
       "      <td>0</td>\n",
       "      <td>...</td>\n",
       "      <td>0</td>\n",
       "      <td>0</td>\n",
       "      <td>0</td>\n",
       "      <td>0</td>\n",
       "      <td>0</td>\n",
       "      <td>0</td>\n",
       "      <td>0</td>\n",
       "      <td>0</td>\n",
       "      <td>0</td>\n",
       "      <td>1</td>\n",
       "    </tr>\n",
       "    <tr>\n",
       "      <th>5</th>\n",
       "      <td>50.0</td>\n",
       "      <td>407.0</td>\n",
       "      <td>7</td>\n",
       "      <td>807</td>\n",
       "      <td>2.0</td>\n",
       "      <td>0</td>\n",
       "      <td>1</td>\n",
       "      <td>0</td>\n",
       "      <td>0</td>\n",
       "      <td>0</td>\n",
       "      <td>...</td>\n",
       "      <td>0</td>\n",
       "      <td>0</td>\n",
       "      <td>0</td>\n",
       "      <td>0</td>\n",
       "      <td>0</td>\n",
       "      <td>0</td>\n",
       "      <td>0</td>\n",
       "      <td>0</td>\n",
       "      <td>0</td>\n",
       "      <td>1</td>\n",
       "    </tr>\n",
       "  </tbody>\n",
       "</table>\n",
       "<p>5 rows × 41 columns</p>\n",
       "</div>"
      ],
      "text/plain": [
       "   customer_age  balance  day_of_month  last_contact_duration  \\\n",
       "0          34.0    934.0            18                    704   \n",
       "1          41.0   1352.0            13                    893   \n",
       "2          57.0    495.0            18                    796   \n",
       "4          29.0    265.0            19                    795   \n",
       "5          50.0    407.0             7                    807   \n",
       "\n",
       "   num_contacts_in_campaign  num_contacts_prev_campaign  job_type_blue-collar  \\\n",
       "0                       2.0                           1                     1   \n",
       "1                       2.0                           0                     1   \n",
       "2                       4.0                           0                     1   \n",
       "4                       2.0                           0                     0   \n",
       "5                       2.0                           0                     1   \n",
       "\n",
       "   job_type_entrepreneur  job_type_housemaid  job_type_management  ...  \\\n",
       "0                      0                   0                    0  ...   \n",
       "1                      0                   0                    0  ...   \n",
       "2                      0                   0                    0  ...   \n",
       "4                      0                   0                    0  ...   \n",
       "5                      0                   0                    0  ...   \n",
       "\n",
       "   month_jul  month_jun  month_mar  month_may  month_nov  month_oct  \\\n",
       "0          0          0          0          0          1          0   \n",
       "1          0          0          0          1          0          0   \n",
       "2          0          0          0          0          0          0   \n",
       "4          0          0          0          0          0          0   \n",
       "5          0          0          0          0          0          0   \n",
       "\n",
       "   month_sep  prev_campaign_outcome_other  prev_campaign_outcome_success  \\\n",
       "0          0                            1                              0   \n",
       "1          0                            0                              0   \n",
       "2          0                            0                              0   \n",
       "4          0                            0                              0   \n",
       "5          0                            0                              0   \n",
       "\n",
       "   prev_campaign_outcome_unknown  \n",
       "0                              0  \n",
       "1                              1  \n",
       "2                              1  \n",
       "4                              1  \n",
       "5                              1  \n",
       "\n",
       "[5 rows x 41 columns]"
      ]
     },
     "execution_count": 22,
     "metadata": {},
     "output_type": "execute_result"
    }
   ],
   "source": [
    "x.head()"
   ]
  },
  {
   "cell_type": "code",
   "execution_count": 23,
   "id": "462b9074",
   "metadata": {},
   "outputs": [
    {
     "data": {
      "text/plain": [
       "(23291, 1)"
      ]
     },
     "execution_count": 23,
     "metadata": {},
     "output_type": "execute_result"
    }
   ],
   "source": [
    "y.shape"
   ]
  },
  {
   "cell_type": "code",
   "execution_count": 24,
   "id": "90940877",
   "metadata": {},
   "outputs": [],
   "source": [
    "from sklearn.model_selection import train_test_split"
   ]
  },
  {
   "cell_type": "code",
   "execution_count": 25,
   "id": "53cefc58",
   "metadata": {},
   "outputs": [],
   "source": [
    "x_train, x_test, y_train, y_test = train_test_split(x, y, test_size=0.30, random_state=101)"
   ]
  },
  {
   "cell_type": "code",
   "execution_count": null,
   "id": "7b31c6db",
   "metadata": {},
   "outputs": [],
   "source": []
  },
  {
   "cell_type": "code",
   "execution_count": null,
   "id": "e75ebb2d",
   "metadata": {},
   "outputs": [],
   "source": []
  },
  {
   "cell_type": "code",
   "execution_count": null,
   "id": "63bb57eb",
   "metadata": {},
   "outputs": [],
   "source": []
  },
  {
   "cell_type": "code",
   "execution_count": null,
   "id": "d564ea6f",
   "metadata": {},
   "outputs": [],
   "source": []
  },
  {
   "cell_type": "code",
   "execution_count": 26,
   "id": "ebc89779",
   "metadata": {},
   "outputs": [
    {
     "data": {
      "text/plain": [
       "Index(['customer_age', 'balance', 'day_of_month', 'last_contact_duration',\n",
       "       'num_contacts_in_campaign', 'num_contacts_prev_campaign',\n",
       "       'job_type_blue-collar', 'job_type_entrepreneur', 'job_type_housemaid',\n",
       "       'job_type_management', 'job_type_retired', 'job_type_self-employed',\n",
       "       'job_type_services', 'job_type_student', 'job_type_technician',\n",
       "       'job_type_unemployed', 'job_type_unknown', 'marital_married',\n",
       "       'marital_single', 'education_secondary', 'education_tertiary',\n",
       "       'education_unknown', 'default_yes', 'housing_loan_yes',\n",
       "       'personal_loan_yes', 'communication_type_telephone',\n",
       "       'communication_type_unknown', 'month_aug', 'month_dec', 'month_feb',\n",
       "       'month_jan', 'month_jul', 'month_jun', 'month_mar', 'month_may',\n",
       "       'month_nov', 'month_oct', 'month_sep', 'prev_campaign_outcome_other',\n",
       "       'prev_campaign_outcome_success', 'prev_campaign_outcome_unknown'],\n",
       "      dtype='object')"
      ]
     },
     "execution_count": 26,
     "metadata": {},
     "output_type": "execute_result"
    }
   ],
   "source": [
    "x_train.columns"
   ]
  },
  {
   "cell_type": "code",
   "execution_count": 27,
   "id": "5b77bf33",
   "metadata": {},
   "outputs": [],
   "source": [
    "from sklearn.linear_model import LogisticRegressionCV"
   ]
  },
  {
   "cell_type": "code",
   "execution_count": 28,
   "id": "aada9035",
   "metadata": {},
   "outputs": [],
   "source": [
    "log_model = LogisticRegressionCV()"
   ]
  },
  {
   "cell_type": "code",
   "execution_count": 29,
   "id": "226d34ec",
   "metadata": {},
   "outputs": [
    {
     "name": "stderr",
     "output_type": "stream",
     "text": [
      "C:\\Users\\ASUS\\anaconda3\\lib\\site-packages\\sklearn\\utils\\validation.py:63: DataConversionWarning: A column-vector y was passed when a 1d array was expected. Please change the shape of y to (n_samples, ), for example using ravel().\n",
      "  return f(*args, **kwargs)\n",
      "C:\\Users\\ASUS\\anaconda3\\lib\\site-packages\\sklearn\\linear_model\\_logistic.py:763: ConvergenceWarning: lbfgs failed to converge (status=1):\n",
      "STOP: TOTAL NO. of ITERATIONS REACHED LIMIT.\n",
      "\n",
      "Increase the number of iterations (max_iter) or scale the data as shown in:\n",
      "    https://scikit-learn.org/stable/modules/preprocessing.html\n",
      "Please also refer to the documentation for alternative solver options:\n",
      "    https://scikit-learn.org/stable/modules/linear_model.html#logistic-regression\n",
      "  n_iter_i = _check_optimize_result(\n",
      "C:\\Users\\ASUS\\anaconda3\\lib\\site-packages\\sklearn\\linear_model\\_logistic.py:763: ConvergenceWarning: lbfgs failed to converge (status=1):\n",
      "STOP: TOTAL NO. of ITERATIONS REACHED LIMIT.\n",
      "\n",
      "Increase the number of iterations (max_iter) or scale the data as shown in:\n",
      "    https://scikit-learn.org/stable/modules/preprocessing.html\n",
      "Please also refer to the documentation for alternative solver options:\n",
      "    https://scikit-learn.org/stable/modules/linear_model.html#logistic-regression\n",
      "  n_iter_i = _check_optimize_result(\n",
      "C:\\Users\\ASUS\\anaconda3\\lib\\site-packages\\sklearn\\linear_model\\_logistic.py:763: ConvergenceWarning: lbfgs failed to converge (status=1):\n",
      "STOP: TOTAL NO. of ITERATIONS REACHED LIMIT.\n",
      "\n",
      "Increase the number of iterations (max_iter) or scale the data as shown in:\n",
      "    https://scikit-learn.org/stable/modules/preprocessing.html\n",
      "Please also refer to the documentation for alternative solver options:\n",
      "    https://scikit-learn.org/stable/modules/linear_model.html#logistic-regression\n",
      "  n_iter_i = _check_optimize_result(\n",
      "C:\\Users\\ASUS\\anaconda3\\lib\\site-packages\\sklearn\\linear_model\\_logistic.py:763: ConvergenceWarning: lbfgs failed to converge (status=1):\n",
      "STOP: TOTAL NO. of ITERATIONS REACHED LIMIT.\n",
      "\n",
      "Increase the number of iterations (max_iter) or scale the data as shown in:\n",
      "    https://scikit-learn.org/stable/modules/preprocessing.html\n",
      "Please also refer to the documentation for alternative solver options:\n",
      "    https://scikit-learn.org/stable/modules/linear_model.html#logistic-regression\n",
      "  n_iter_i = _check_optimize_result(\n",
      "C:\\Users\\ASUS\\anaconda3\\lib\\site-packages\\sklearn\\linear_model\\_logistic.py:763: ConvergenceWarning: lbfgs failed to converge (status=1):\n",
      "STOP: TOTAL NO. of ITERATIONS REACHED LIMIT.\n",
      "\n",
      "Increase the number of iterations (max_iter) or scale the data as shown in:\n",
      "    https://scikit-learn.org/stable/modules/preprocessing.html\n",
      "Please also refer to the documentation for alternative solver options:\n",
      "    https://scikit-learn.org/stable/modules/linear_model.html#logistic-regression\n",
      "  n_iter_i = _check_optimize_result(\n",
      "C:\\Users\\ASUS\\anaconda3\\lib\\site-packages\\sklearn\\linear_model\\_logistic.py:763: ConvergenceWarning: lbfgs failed to converge (status=1):\n",
      "STOP: TOTAL NO. of ITERATIONS REACHED LIMIT.\n",
      "\n",
      "Increase the number of iterations (max_iter) or scale the data as shown in:\n",
      "    https://scikit-learn.org/stable/modules/preprocessing.html\n",
      "Please also refer to the documentation for alternative solver options:\n",
      "    https://scikit-learn.org/stable/modules/linear_model.html#logistic-regression\n",
      "  n_iter_i = _check_optimize_result(\n",
      "C:\\Users\\ASUS\\anaconda3\\lib\\site-packages\\sklearn\\linear_model\\_logistic.py:763: ConvergenceWarning: lbfgs failed to converge (status=1):\n",
      "STOP: TOTAL NO. of ITERATIONS REACHED LIMIT.\n",
      "\n",
      "Increase the number of iterations (max_iter) or scale the data as shown in:\n",
      "    https://scikit-learn.org/stable/modules/preprocessing.html\n",
      "Please also refer to the documentation for alternative solver options:\n",
      "    https://scikit-learn.org/stable/modules/linear_model.html#logistic-regression\n",
      "  n_iter_i = _check_optimize_result(\n",
      "C:\\Users\\ASUS\\anaconda3\\lib\\site-packages\\sklearn\\linear_model\\_logistic.py:763: ConvergenceWarning: lbfgs failed to converge (status=1):\n",
      "STOP: TOTAL NO. of ITERATIONS REACHED LIMIT.\n",
      "\n",
      "Increase the number of iterations (max_iter) or scale the data as shown in:\n",
      "    https://scikit-learn.org/stable/modules/preprocessing.html\n",
      "Please also refer to the documentation for alternative solver options:\n",
      "    https://scikit-learn.org/stable/modules/linear_model.html#logistic-regression\n",
      "  n_iter_i = _check_optimize_result(\n",
      "C:\\Users\\ASUS\\anaconda3\\lib\\site-packages\\sklearn\\linear_model\\_logistic.py:763: ConvergenceWarning: lbfgs failed to converge (status=1):\n",
      "STOP: TOTAL NO. of ITERATIONS REACHED LIMIT.\n",
      "\n",
      "Increase the number of iterations (max_iter) or scale the data as shown in:\n",
      "    https://scikit-learn.org/stable/modules/preprocessing.html\n",
      "Please also refer to the documentation for alternative solver options:\n",
      "    https://scikit-learn.org/stable/modules/linear_model.html#logistic-regression\n",
      "  n_iter_i = _check_optimize_result(\n",
      "C:\\Users\\ASUS\\anaconda3\\lib\\site-packages\\sklearn\\linear_model\\_logistic.py:763: ConvergenceWarning: lbfgs failed to converge (status=1):\n",
      "STOP: TOTAL NO. of ITERATIONS REACHED LIMIT.\n",
      "\n",
      "Increase the number of iterations (max_iter) or scale the data as shown in:\n",
      "    https://scikit-learn.org/stable/modules/preprocessing.html\n",
      "Please also refer to the documentation for alternative solver options:\n",
      "    https://scikit-learn.org/stable/modules/linear_model.html#logistic-regression\n",
      "  n_iter_i = _check_optimize_result(\n",
      "C:\\Users\\ASUS\\anaconda3\\lib\\site-packages\\sklearn\\linear_model\\_logistic.py:763: ConvergenceWarning: lbfgs failed to converge (status=1):\n",
      "STOP: TOTAL NO. of ITERATIONS REACHED LIMIT.\n",
      "\n",
      "Increase the number of iterations (max_iter) or scale the data as shown in:\n",
      "    https://scikit-learn.org/stable/modules/preprocessing.html\n",
      "Please also refer to the documentation for alternative solver options:\n",
      "    https://scikit-learn.org/stable/modules/linear_model.html#logistic-regression\n",
      "  n_iter_i = _check_optimize_result(\n",
      "C:\\Users\\ASUS\\anaconda3\\lib\\site-packages\\sklearn\\linear_model\\_logistic.py:763: ConvergenceWarning: lbfgs failed to converge (status=1):\n",
      "STOP: TOTAL NO. of ITERATIONS REACHED LIMIT.\n",
      "\n",
      "Increase the number of iterations (max_iter) or scale the data as shown in:\n",
      "    https://scikit-learn.org/stable/modules/preprocessing.html\n",
      "Please also refer to the documentation for alternative solver options:\n",
      "    https://scikit-learn.org/stable/modules/linear_model.html#logistic-regression\n",
      "  n_iter_i = _check_optimize_result(\n",
      "C:\\Users\\ASUS\\anaconda3\\lib\\site-packages\\sklearn\\linear_model\\_logistic.py:763: ConvergenceWarning: lbfgs failed to converge (status=1):\n",
      "STOP: TOTAL NO. of ITERATIONS REACHED LIMIT.\n",
      "\n",
      "Increase the number of iterations (max_iter) or scale the data as shown in:\n",
      "    https://scikit-learn.org/stable/modules/preprocessing.html\n",
      "Please also refer to the documentation for alternative solver options:\n",
      "    https://scikit-learn.org/stable/modules/linear_model.html#logistic-regression\n",
      "  n_iter_i = _check_optimize_result(\n",
      "C:\\Users\\ASUS\\anaconda3\\lib\\site-packages\\sklearn\\linear_model\\_logistic.py:763: ConvergenceWarning: lbfgs failed to converge (status=1):\n",
      "STOP: TOTAL NO. of ITERATIONS REACHED LIMIT.\n",
      "\n",
      "Increase the number of iterations (max_iter) or scale the data as shown in:\n",
      "    https://scikit-learn.org/stable/modules/preprocessing.html\n",
      "Please also refer to the documentation for alternative solver options:\n",
      "    https://scikit-learn.org/stable/modules/linear_model.html#logistic-regression\n",
      "  n_iter_i = _check_optimize_result(\n",
      "C:\\Users\\ASUS\\anaconda3\\lib\\site-packages\\sklearn\\linear_model\\_logistic.py:763: ConvergenceWarning: lbfgs failed to converge (status=1):\n",
      "STOP: TOTAL NO. of ITERATIONS REACHED LIMIT.\n",
      "\n",
      "Increase the number of iterations (max_iter) or scale the data as shown in:\n",
      "    https://scikit-learn.org/stable/modules/preprocessing.html\n",
      "Please also refer to the documentation for alternative solver options:\n",
      "    https://scikit-learn.org/stable/modules/linear_model.html#logistic-regression\n",
      "  n_iter_i = _check_optimize_result(\n",
      "C:\\Users\\ASUS\\anaconda3\\lib\\site-packages\\sklearn\\linear_model\\_logistic.py:763: ConvergenceWarning: lbfgs failed to converge (status=1):\n",
      "STOP: TOTAL NO. of ITERATIONS REACHED LIMIT.\n",
      "\n",
      "Increase the number of iterations (max_iter) or scale the data as shown in:\n",
      "    https://scikit-learn.org/stable/modules/preprocessing.html\n",
      "Please also refer to the documentation for alternative solver options:\n",
      "    https://scikit-learn.org/stable/modules/linear_model.html#logistic-regression\n",
      "  n_iter_i = _check_optimize_result(\n"
     ]
    },
    {
     "name": "stderr",
     "output_type": "stream",
     "text": [
      "C:\\Users\\ASUS\\anaconda3\\lib\\site-packages\\sklearn\\linear_model\\_logistic.py:763: ConvergenceWarning: lbfgs failed to converge (status=1):\n",
      "STOP: TOTAL NO. of ITERATIONS REACHED LIMIT.\n",
      "\n",
      "Increase the number of iterations (max_iter) or scale the data as shown in:\n",
      "    https://scikit-learn.org/stable/modules/preprocessing.html\n",
      "Please also refer to the documentation for alternative solver options:\n",
      "    https://scikit-learn.org/stable/modules/linear_model.html#logistic-regression\n",
      "  n_iter_i = _check_optimize_result(\n",
      "C:\\Users\\ASUS\\anaconda3\\lib\\site-packages\\sklearn\\linear_model\\_logistic.py:763: ConvergenceWarning: lbfgs failed to converge (status=1):\n",
      "STOP: TOTAL NO. of ITERATIONS REACHED LIMIT.\n",
      "\n",
      "Increase the number of iterations (max_iter) or scale the data as shown in:\n",
      "    https://scikit-learn.org/stable/modules/preprocessing.html\n",
      "Please also refer to the documentation for alternative solver options:\n",
      "    https://scikit-learn.org/stable/modules/linear_model.html#logistic-regression\n",
      "  n_iter_i = _check_optimize_result(\n",
      "C:\\Users\\ASUS\\anaconda3\\lib\\site-packages\\sklearn\\linear_model\\_logistic.py:763: ConvergenceWarning: lbfgs failed to converge (status=1):\n",
      "STOP: TOTAL NO. of ITERATIONS REACHED LIMIT.\n",
      "\n",
      "Increase the number of iterations (max_iter) or scale the data as shown in:\n",
      "    https://scikit-learn.org/stable/modules/preprocessing.html\n",
      "Please also refer to the documentation for alternative solver options:\n",
      "    https://scikit-learn.org/stable/modules/linear_model.html#logistic-regression\n",
      "  n_iter_i = _check_optimize_result(\n",
      "C:\\Users\\ASUS\\anaconda3\\lib\\site-packages\\sklearn\\linear_model\\_logistic.py:763: ConvergenceWarning: lbfgs failed to converge (status=1):\n",
      "STOP: TOTAL NO. of ITERATIONS REACHED LIMIT.\n",
      "\n",
      "Increase the number of iterations (max_iter) or scale the data as shown in:\n",
      "    https://scikit-learn.org/stable/modules/preprocessing.html\n",
      "Please also refer to the documentation for alternative solver options:\n",
      "    https://scikit-learn.org/stable/modules/linear_model.html#logistic-regression\n",
      "  n_iter_i = _check_optimize_result(\n",
      "C:\\Users\\ASUS\\anaconda3\\lib\\site-packages\\sklearn\\linear_model\\_logistic.py:763: ConvergenceWarning: lbfgs failed to converge (status=1):\n",
      "STOP: TOTAL NO. of ITERATIONS REACHED LIMIT.\n",
      "\n",
      "Increase the number of iterations (max_iter) or scale the data as shown in:\n",
      "    https://scikit-learn.org/stable/modules/preprocessing.html\n",
      "Please also refer to the documentation for alternative solver options:\n",
      "    https://scikit-learn.org/stable/modules/linear_model.html#logistic-regression\n",
      "  n_iter_i = _check_optimize_result(\n"
     ]
    },
    {
     "data": {
      "text/plain": [
       "LogisticRegressionCV()"
      ]
     },
     "execution_count": 29,
     "metadata": {},
     "output_type": "execute_result"
    }
   ],
   "source": [
    "log_model.fit(x_train,y_train)"
   ]
  },
  {
   "cell_type": "code",
   "execution_count": 30,
   "id": "be63f9b3",
   "metadata": {},
   "outputs": [],
   "source": [
    "ypred = log_model.predict(x_test)"
   ]
  },
  {
   "cell_type": "code",
   "execution_count": 31,
   "id": "0a0637d4",
   "metadata": {},
   "outputs": [],
   "source": [
    "from sklearn.metrics import accuracy_score"
   ]
  },
  {
   "cell_type": "code",
   "execution_count": 32,
   "id": "7c201c36",
   "metadata": {},
   "outputs": [
    {
     "data": {
      "text/plain": [
       "0.9056954779622209"
      ]
     },
     "execution_count": 32,
     "metadata": {},
     "output_type": "execute_result"
    }
   ],
   "source": [
    "accuracy = accuracy_score(y_test,ypred)\n",
    "accuracy"
   ]
  },
  {
   "cell_type": "code",
   "execution_count": 33,
   "id": "6ee2c779",
   "metadata": {},
   "outputs": [
    {
     "data": {
      "text/html": [
       "<div>\n",
       "<style scoped>\n",
       "    .dataframe tbody tr th:only-of-type {\n",
       "        vertical-align: middle;\n",
       "    }\n",
       "\n",
       "    .dataframe tbody tr th {\n",
       "        vertical-align: top;\n",
       "    }\n",
       "\n",
       "    .dataframe thead th {\n",
       "        text-align: right;\n",
       "    }\n",
       "</style>\n",
       "<table border=\"1\" class=\"dataframe\">\n",
       "  <thead>\n",
       "    <tr style=\"text-align: right;\">\n",
       "      <th></th>\n",
       "      <th>customer_age</th>\n",
       "      <th>balance</th>\n",
       "      <th>day_of_month</th>\n",
       "      <th>last_contact_duration</th>\n",
       "      <th>num_contacts_in_campaign</th>\n",
       "      <th>num_contacts_prev_campaign</th>\n",
       "      <th>job_type_blue-collar</th>\n",
       "      <th>job_type_entrepreneur</th>\n",
       "      <th>job_type_housemaid</th>\n",
       "      <th>job_type_management</th>\n",
       "      <th>...</th>\n",
       "      <th>month_jul</th>\n",
       "      <th>month_jun</th>\n",
       "      <th>month_mar</th>\n",
       "      <th>month_may</th>\n",
       "      <th>month_nov</th>\n",
       "      <th>month_oct</th>\n",
       "      <th>month_sep</th>\n",
       "      <th>prev_campaign_outcome_other</th>\n",
       "      <th>prev_campaign_outcome_success</th>\n",
       "      <th>prev_campaign_outcome_unknown</th>\n",
       "    </tr>\n",
       "  </thead>\n",
       "  <tbody>\n",
       "    <tr>\n",
       "      <th>13222</th>\n",
       "      <td>40.0</td>\n",
       "      <td>548.0</td>\n",
       "      <td>12</td>\n",
       "      <td>863</td>\n",
       "      <td>1.0</td>\n",
       "      <td>0</td>\n",
       "      <td>0</td>\n",
       "      <td>0</td>\n",
       "      <td>0</td>\n",
       "      <td>0</td>\n",
       "      <td>...</td>\n",
       "      <td>0</td>\n",
       "      <td>1</td>\n",
       "      <td>0</td>\n",
       "      <td>0</td>\n",
       "      <td>0</td>\n",
       "      <td>0</td>\n",
       "      <td>0</td>\n",
       "      <td>0</td>\n",
       "      <td>0</td>\n",
       "      <td>1</td>\n",
       "    </tr>\n",
       "    <tr>\n",
       "      <th>20834</th>\n",
       "      <td>35.0</td>\n",
       "      <td>498.0</td>\n",
       "      <td>14</td>\n",
       "      <td>800</td>\n",
       "      <td>4.0</td>\n",
       "      <td>0</td>\n",
       "      <td>0</td>\n",
       "      <td>0</td>\n",
       "      <td>1</td>\n",
       "      <td>0</td>\n",
       "      <td>...</td>\n",
       "      <td>0</td>\n",
       "      <td>0</td>\n",
       "      <td>0</td>\n",
       "      <td>0</td>\n",
       "      <td>0</td>\n",
       "      <td>0</td>\n",
       "      <td>0</td>\n",
       "      <td>0</td>\n",
       "      <td>0</td>\n",
       "      <td>1</td>\n",
       "    </tr>\n",
       "    <tr>\n",
       "      <th>18545</th>\n",
       "      <td>36.0</td>\n",
       "      <td>863.0</td>\n",
       "      <td>8</td>\n",
       "      <td>898</td>\n",
       "      <td>1.0</td>\n",
       "      <td>0</td>\n",
       "      <td>1</td>\n",
       "      <td>0</td>\n",
       "      <td>0</td>\n",
       "      <td>0</td>\n",
       "      <td>...</td>\n",
       "      <td>0</td>\n",
       "      <td>0</td>\n",
       "      <td>0</td>\n",
       "      <td>1</td>\n",
       "      <td>0</td>\n",
       "      <td>0</td>\n",
       "      <td>0</td>\n",
       "      <td>0</td>\n",
       "      <td>0</td>\n",
       "      <td>1</td>\n",
       "    </tr>\n",
       "    <tr>\n",
       "      <th>13917</th>\n",
       "      <td>54.0</td>\n",
       "      <td>286.0</td>\n",
       "      <td>3</td>\n",
       "      <td>992</td>\n",
       "      <td>4.0</td>\n",
       "      <td>4</td>\n",
       "      <td>1</td>\n",
       "      <td>0</td>\n",
       "      <td>0</td>\n",
       "      <td>0</td>\n",
       "      <td>...</td>\n",
       "      <td>0</td>\n",
       "      <td>0</td>\n",
       "      <td>0</td>\n",
       "      <td>0</td>\n",
       "      <td>0</td>\n",
       "      <td>0</td>\n",
       "      <td>0</td>\n",
       "      <td>0</td>\n",
       "      <td>0</td>\n",
       "      <td>0</td>\n",
       "    </tr>\n",
       "    <tr>\n",
       "      <th>14727</th>\n",
       "      <td>33.0</td>\n",
       "      <td>9633.0</td>\n",
       "      <td>7</td>\n",
       "      <td>746</td>\n",
       "      <td>2.0</td>\n",
       "      <td>2</td>\n",
       "      <td>0</td>\n",
       "      <td>0</td>\n",
       "      <td>0</td>\n",
       "      <td>1</td>\n",
       "      <td>...</td>\n",
       "      <td>0</td>\n",
       "      <td>0</td>\n",
       "      <td>0</td>\n",
       "      <td>0</td>\n",
       "      <td>0</td>\n",
       "      <td>1</td>\n",
       "      <td>0</td>\n",
       "      <td>0</td>\n",
       "      <td>0</td>\n",
       "      <td>0</td>\n",
       "    </tr>\n",
       "  </tbody>\n",
       "</table>\n",
       "<p>5 rows × 41 columns</p>\n",
       "</div>"
      ],
      "text/plain": [
       "       customer_age  balance  day_of_month  last_contact_duration  \\\n",
       "13222          40.0    548.0            12                    863   \n",
       "20834          35.0    498.0            14                    800   \n",
       "18545          36.0    863.0             8                    898   \n",
       "13917          54.0    286.0             3                    992   \n",
       "14727          33.0   9633.0             7                    746   \n",
       "\n",
       "       num_contacts_in_campaign  num_contacts_prev_campaign  \\\n",
       "13222                       1.0                           0   \n",
       "20834                       4.0                           0   \n",
       "18545                       1.0                           0   \n",
       "13917                       4.0                           4   \n",
       "14727                       2.0                           2   \n",
       "\n",
       "       job_type_blue-collar  job_type_entrepreneur  job_type_housemaid  \\\n",
       "13222                     0                      0                   0   \n",
       "20834                     0                      0                   1   \n",
       "18545                     1                      0                   0   \n",
       "13917                     1                      0                   0   \n",
       "14727                     0                      0                   0   \n",
       "\n",
       "       job_type_management  ...  month_jul  month_jun  month_mar  month_may  \\\n",
       "13222                    0  ...          0          1          0          0   \n",
       "20834                    0  ...          0          0          0          0   \n",
       "18545                    0  ...          0          0          0          1   \n",
       "13917                    0  ...          0          0          0          0   \n",
       "14727                    1  ...          0          0          0          0   \n",
       "\n",
       "       month_nov  month_oct  month_sep  prev_campaign_outcome_other  \\\n",
       "13222          0          0          0                            0   \n",
       "20834          0          0          0                            0   \n",
       "18545          0          0          0                            0   \n",
       "13917          0          0          0                            0   \n",
       "14727          0          1          0                            0   \n",
       "\n",
       "       prev_campaign_outcome_success  prev_campaign_outcome_unknown  \n",
       "13222                              0                              1  \n",
       "20834                              0                              1  \n",
       "18545                              0                              1  \n",
       "13917                              0                              0  \n",
       "14727                              0                              0  \n",
       "\n",
       "[5 rows x 41 columns]"
      ]
     },
     "execution_count": 33,
     "metadata": {},
     "output_type": "execute_result"
    }
   ],
   "source": [
    "x_test.head()"
   ]
  },
  {
   "cell_type": "code",
   "execution_count": 34,
   "id": "5e9b024c",
   "metadata": {},
   "outputs": [],
   "source": [
    "result = pd.DataFrame(x_test)"
   ]
  },
  {
   "cell_type": "code",
   "execution_count": 35,
   "id": "ef817ce3",
   "metadata": {},
   "outputs": [
    {
     "data": {
      "text/html": [
       "<div>\n",
       "<style scoped>\n",
       "    .dataframe tbody tr th:only-of-type {\n",
       "        vertical-align: middle;\n",
       "    }\n",
       "\n",
       "    .dataframe tbody tr th {\n",
       "        vertical-align: top;\n",
       "    }\n",
       "\n",
       "    .dataframe thead th {\n",
       "        text-align: right;\n",
       "    }\n",
       "</style>\n",
       "<table border=\"1\" class=\"dataframe\">\n",
       "  <thead>\n",
       "    <tr style=\"text-align: right;\">\n",
       "      <th></th>\n",
       "      <th>customer_age</th>\n",
       "      <th>balance</th>\n",
       "      <th>day_of_month</th>\n",
       "      <th>last_contact_duration</th>\n",
       "      <th>num_contacts_in_campaign</th>\n",
       "      <th>num_contacts_prev_campaign</th>\n",
       "      <th>job_type_blue-collar</th>\n",
       "      <th>job_type_entrepreneur</th>\n",
       "      <th>job_type_housemaid</th>\n",
       "      <th>job_type_management</th>\n",
       "      <th>...</th>\n",
       "      <th>month_jul</th>\n",
       "      <th>month_jun</th>\n",
       "      <th>month_mar</th>\n",
       "      <th>month_may</th>\n",
       "      <th>month_nov</th>\n",
       "      <th>month_oct</th>\n",
       "      <th>month_sep</th>\n",
       "      <th>prev_campaign_outcome_other</th>\n",
       "      <th>prev_campaign_outcome_success</th>\n",
       "      <th>prev_campaign_outcome_unknown</th>\n",
       "    </tr>\n",
       "  </thead>\n",
       "  <tbody>\n",
       "    <tr>\n",
       "      <th>13222</th>\n",
       "      <td>40.0</td>\n",
       "      <td>548.0</td>\n",
       "      <td>12</td>\n",
       "      <td>863</td>\n",
       "      <td>1.0</td>\n",
       "      <td>0</td>\n",
       "      <td>0</td>\n",
       "      <td>0</td>\n",
       "      <td>0</td>\n",
       "      <td>0</td>\n",
       "      <td>...</td>\n",
       "      <td>0</td>\n",
       "      <td>1</td>\n",
       "      <td>0</td>\n",
       "      <td>0</td>\n",
       "      <td>0</td>\n",
       "      <td>0</td>\n",
       "      <td>0</td>\n",
       "      <td>0</td>\n",
       "      <td>0</td>\n",
       "      <td>1</td>\n",
       "    </tr>\n",
       "    <tr>\n",
       "      <th>20834</th>\n",
       "      <td>35.0</td>\n",
       "      <td>498.0</td>\n",
       "      <td>14</td>\n",
       "      <td>800</td>\n",
       "      <td>4.0</td>\n",
       "      <td>0</td>\n",
       "      <td>0</td>\n",
       "      <td>0</td>\n",
       "      <td>1</td>\n",
       "      <td>0</td>\n",
       "      <td>...</td>\n",
       "      <td>0</td>\n",
       "      <td>0</td>\n",
       "      <td>0</td>\n",
       "      <td>0</td>\n",
       "      <td>0</td>\n",
       "      <td>0</td>\n",
       "      <td>0</td>\n",
       "      <td>0</td>\n",
       "      <td>0</td>\n",
       "      <td>1</td>\n",
       "    </tr>\n",
       "    <tr>\n",
       "      <th>18545</th>\n",
       "      <td>36.0</td>\n",
       "      <td>863.0</td>\n",
       "      <td>8</td>\n",
       "      <td>898</td>\n",
       "      <td>1.0</td>\n",
       "      <td>0</td>\n",
       "      <td>1</td>\n",
       "      <td>0</td>\n",
       "      <td>0</td>\n",
       "      <td>0</td>\n",
       "      <td>...</td>\n",
       "      <td>0</td>\n",
       "      <td>0</td>\n",
       "      <td>0</td>\n",
       "      <td>1</td>\n",
       "      <td>0</td>\n",
       "      <td>0</td>\n",
       "      <td>0</td>\n",
       "      <td>0</td>\n",
       "      <td>0</td>\n",
       "      <td>1</td>\n",
       "    </tr>\n",
       "    <tr>\n",
       "      <th>13917</th>\n",
       "      <td>54.0</td>\n",
       "      <td>286.0</td>\n",
       "      <td>3</td>\n",
       "      <td>992</td>\n",
       "      <td>4.0</td>\n",
       "      <td>4</td>\n",
       "      <td>1</td>\n",
       "      <td>0</td>\n",
       "      <td>0</td>\n",
       "      <td>0</td>\n",
       "      <td>...</td>\n",
       "      <td>0</td>\n",
       "      <td>0</td>\n",
       "      <td>0</td>\n",
       "      <td>0</td>\n",
       "      <td>0</td>\n",
       "      <td>0</td>\n",
       "      <td>0</td>\n",
       "      <td>0</td>\n",
       "      <td>0</td>\n",
       "      <td>0</td>\n",
       "    </tr>\n",
       "    <tr>\n",
       "      <th>14727</th>\n",
       "      <td>33.0</td>\n",
       "      <td>9633.0</td>\n",
       "      <td>7</td>\n",
       "      <td>746</td>\n",
       "      <td>2.0</td>\n",
       "      <td>2</td>\n",
       "      <td>0</td>\n",
       "      <td>0</td>\n",
       "      <td>0</td>\n",
       "      <td>1</td>\n",
       "      <td>...</td>\n",
       "      <td>0</td>\n",
       "      <td>0</td>\n",
       "      <td>0</td>\n",
       "      <td>0</td>\n",
       "      <td>0</td>\n",
       "      <td>1</td>\n",
       "      <td>0</td>\n",
       "      <td>0</td>\n",
       "      <td>0</td>\n",
       "      <td>0</td>\n",
       "    </tr>\n",
       "  </tbody>\n",
       "</table>\n",
       "<p>5 rows × 41 columns</p>\n",
       "</div>"
      ],
      "text/plain": [
       "       customer_age  balance  day_of_month  last_contact_duration  \\\n",
       "13222          40.0    548.0            12                    863   \n",
       "20834          35.0    498.0            14                    800   \n",
       "18545          36.0    863.0             8                    898   \n",
       "13917          54.0    286.0             3                    992   \n",
       "14727          33.0   9633.0             7                    746   \n",
       "\n",
       "       num_contacts_in_campaign  num_contacts_prev_campaign  \\\n",
       "13222                       1.0                           0   \n",
       "20834                       4.0                           0   \n",
       "18545                       1.0                           0   \n",
       "13917                       4.0                           4   \n",
       "14727                       2.0                           2   \n",
       "\n",
       "       job_type_blue-collar  job_type_entrepreneur  job_type_housemaid  \\\n",
       "13222                     0                      0                   0   \n",
       "20834                     0                      0                   1   \n",
       "18545                     1                      0                   0   \n",
       "13917                     1                      0                   0   \n",
       "14727                     0                      0                   0   \n",
       "\n",
       "       job_type_management  ...  month_jul  month_jun  month_mar  month_may  \\\n",
       "13222                    0  ...          0          1          0          0   \n",
       "20834                    0  ...          0          0          0          0   \n",
       "18545                    0  ...          0          0          0          1   \n",
       "13917                    0  ...          0          0          0          0   \n",
       "14727                    1  ...          0          0          0          0   \n",
       "\n",
       "       month_nov  month_oct  month_sep  prev_campaign_outcome_other  \\\n",
       "13222          0          0          0                            0   \n",
       "20834          0          0          0                            0   \n",
       "18545          0          0          0                            0   \n",
       "13917          0          0          0                            0   \n",
       "14727          0          1          0                            0   \n",
       "\n",
       "       prev_campaign_outcome_success  prev_campaign_outcome_unknown  \n",
       "13222                              0                              1  \n",
       "20834                              0                              1  \n",
       "18545                              0                              1  \n",
       "13917                              0                              0  \n",
       "14727                              0                              0  \n",
       "\n",
       "[5 rows x 41 columns]"
      ]
     },
     "execution_count": 35,
     "metadata": {},
     "output_type": "execute_result"
    }
   ],
   "source": [
    "result.head()"
   ]
  },
  {
   "cell_type": "code",
   "execution_count": 36,
   "id": "91fae6f9",
   "metadata": {},
   "outputs": [
    {
     "name": "stdout",
     "output_type": "stream",
     "text": [
      "<class 'pandas.core.frame.DataFrame'>\n",
      "Int64Index: 6988 entries, 13222 to 6559\n",
      "Data columns (total 41 columns):\n",
      " #   Column                         Non-Null Count  Dtype  \n",
      "---  ------                         --------------  -----  \n",
      " 0   customer_age                   6988 non-null   float64\n",
      " 1   balance                        6988 non-null   float64\n",
      " 2   day_of_month                   6988 non-null   int64  \n",
      " 3   last_contact_duration          6988 non-null   int64  \n",
      " 4   num_contacts_in_campaign       6988 non-null   float64\n",
      " 5   num_contacts_prev_campaign     6988 non-null   int64  \n",
      " 6   job_type_blue-collar           6988 non-null   uint8  \n",
      " 7   job_type_entrepreneur          6988 non-null   uint8  \n",
      " 8   job_type_housemaid             6988 non-null   uint8  \n",
      " 9   job_type_management            6988 non-null   uint8  \n",
      " 10  job_type_retired               6988 non-null   uint8  \n",
      " 11  job_type_self-employed         6988 non-null   uint8  \n",
      " 12  job_type_services              6988 non-null   uint8  \n",
      " 13  job_type_student               6988 non-null   uint8  \n",
      " 14  job_type_technician            6988 non-null   uint8  \n",
      " 15  job_type_unemployed            6988 non-null   uint8  \n",
      " 16  job_type_unknown               6988 non-null   uint8  \n",
      " 17  marital_married                6988 non-null   uint8  \n",
      " 18  marital_single                 6988 non-null   uint8  \n",
      " 19  education_secondary            6988 non-null   uint8  \n",
      " 20  education_tertiary             6988 non-null   uint8  \n",
      " 21  education_unknown              6988 non-null   uint8  \n",
      " 22  default_yes                    6988 non-null   uint8  \n",
      " 23  housing_loan_yes               6988 non-null   uint8  \n",
      " 24  personal_loan_yes              6988 non-null   uint8  \n",
      " 25  communication_type_telephone   6988 non-null   uint8  \n",
      " 26  communication_type_unknown     6988 non-null   uint8  \n",
      " 27  month_aug                      6988 non-null   uint8  \n",
      " 28  month_dec                      6988 non-null   uint8  \n",
      " 29  month_feb                      6988 non-null   uint8  \n",
      " 30  month_jan                      6988 non-null   uint8  \n",
      " 31  month_jul                      6988 non-null   uint8  \n",
      " 32  month_jun                      6988 non-null   uint8  \n",
      " 33  month_mar                      6988 non-null   uint8  \n",
      " 34  month_may                      6988 non-null   uint8  \n",
      " 35  month_nov                      6988 non-null   uint8  \n",
      " 36  month_oct                      6988 non-null   uint8  \n",
      " 37  month_sep                      6988 non-null   uint8  \n",
      " 38  prev_campaign_outcome_other    6988 non-null   uint8  \n",
      " 39  prev_campaign_outcome_success  6988 non-null   uint8  \n",
      " 40  prev_campaign_outcome_unknown  6988 non-null   uint8  \n",
      "dtypes: float64(3), int64(3), uint8(35)\n",
      "memory usage: 621.0 KB\n"
     ]
    }
   ],
   "source": [
    "result.info()"
   ]
  },
  {
   "cell_type": "code",
   "execution_count": 37,
   "id": "6b43b6b2",
   "metadata": {},
   "outputs": [
    {
     "data": {
      "text/html": [
       "<div>\n",
       "<style scoped>\n",
       "    .dataframe tbody tr th:only-of-type {\n",
       "        vertical-align: middle;\n",
       "    }\n",
       "\n",
       "    .dataframe tbody tr th {\n",
       "        vertical-align: top;\n",
       "    }\n",
       "\n",
       "    .dataframe thead th {\n",
       "        text-align: right;\n",
       "    }\n",
       "</style>\n",
       "<table border=\"1\" class=\"dataframe\">\n",
       "  <thead>\n",
       "    <tr style=\"text-align: right;\">\n",
       "      <th></th>\n",
       "      <th>term_deposit_subscribed</th>\n",
       "    </tr>\n",
       "  </thead>\n",
       "  <tbody>\n",
       "    <tr>\n",
       "      <th>13222</th>\n",
       "      <td>0</td>\n",
       "    </tr>\n",
       "    <tr>\n",
       "      <th>20834</th>\n",
       "      <td>0</td>\n",
       "    </tr>\n",
       "    <tr>\n",
       "      <th>18545</th>\n",
       "      <td>0</td>\n",
       "    </tr>\n",
       "    <tr>\n",
       "      <th>13917</th>\n",
       "      <td>0</td>\n",
       "    </tr>\n",
       "    <tr>\n",
       "      <th>14727</th>\n",
       "      <td>0</td>\n",
       "    </tr>\n",
       "  </tbody>\n",
       "</table>\n",
       "</div>"
      ],
      "text/plain": [
       "       term_deposit_subscribed\n",
       "13222                        0\n",
       "20834                        0\n",
       "18545                        0\n",
       "13917                        0\n",
       "14727                        0"
      ]
     },
     "execution_count": 37,
     "metadata": {},
     "output_type": "execute_result"
    }
   ],
   "source": [
    "y_test.head()"
   ]
  },
  {
   "cell_type": "code",
   "execution_count": 38,
   "id": "32abacef",
   "metadata": {
    "scrolled": true
   },
   "outputs": [
    {
     "name": "stderr",
     "output_type": "stream",
     "text": [
      "C:\\Users\\ASUS\\anaconda3\\lib\\site-packages\\seaborn\\_decorators.py:36: FutureWarning: Pass the following variable as a keyword arg: x. From version 0.12, the only valid positional argument will be `data`, and passing other arguments without an explicit keyword will result in an error or misinterpretation.\n",
      "  warnings.warn(\n"
     ]
    },
    {
     "data": {
      "text/plain": [
       "<AxesSubplot:xlabel='term_deposit_subscribed', ylabel='count'>"
      ]
     },
     "execution_count": 38,
     "metadata": {},
     "output_type": "execute_result"
    },
    {
     "data": {
      "image/png": "[encoded data removed]",
      "text/plain": [
       "<Figure size 432x288 with 1 Axes>"
      ]
     },
     "metadata": {
      "needs_background": "light"
     },
     "output_type": "display_data"
    }
   ],
   "source": [
    "sns.countplot('term_deposit_subscribed',data = y_train)"
   ]
  },
  {
   "cell_type": "markdown",
   "id": "ead3651e",
   "metadata": {},
   "source": [
    "# Loading new data to predict their output"
   ]
  },
  {
   "cell_type": "code",
   "execution_count": 39,
   "id": "6cabbe11",
   "metadata": {},
   "outputs": [],
   "source": [
    "newdata = pd.read_excel('New_customer_list_data.xlsx')"
   ]
  },
  {
   "cell_type": "code",
   "execution_count": 40,
   "id": "b72b11f5",
   "metadata": {},
   "outputs": [
    {
     "data": {
      "text/html": [
       "<div>\n",
       "<style scoped>\n",
       "    .dataframe tbody tr th:only-of-type {\n",
       "        vertical-align: middle;\n",
       "    }\n",
       "\n",
       "    .dataframe tbody tr th {\n",
       "        vertical-align: top;\n",
       "    }\n",
       "\n",
       "    .dataframe thead th {\n",
       "        text-align: right;\n",
       "    }\n",
       "</style>\n",
       "<table border=\"1\" class=\"dataframe\">\n",
       "  <thead>\n",
       "    <tr style=\"text-align: right;\">\n",
       "      <th></th>\n",
       "      <th>customer_id</th>\n",
       "      <th>customer_age</th>\n",
       "      <th>job_type</th>\n",
       "      <th>marital</th>\n",
       "      <th>education</th>\n",
       "      <th>default</th>\n",
       "      <th>balance</th>\n",
       "      <th>housing_loan</th>\n",
       "      <th>personal_loan</th>\n",
       "      <th>communication_type</th>\n",
       "      <th>last_contact_duration</th>\n",
       "      <th>day_of_month</th>\n",
       "      <th>month</th>\n",
       "      <th>num_contacts_in_campaign</th>\n",
       "      <th>num_contacts_prev_campaign</th>\n",
       "      <th>prev_campaign_outcome</th>\n",
       "    </tr>\n",
       "  </thead>\n",
       "  <tbody>\n",
       "    <tr>\n",
       "      <th>0</th>\n",
       "      <td>id_43823</td>\n",
       "      <td>28.0</td>\n",
       "      <td>management</td>\n",
       "      <td>single</td>\n",
       "      <td>tertiary</td>\n",
       "      <td>no</td>\n",
       "      <td>285.0</td>\n",
       "      <td>yes</td>\n",
       "      <td>no</td>\n",
       "      <td>unknown</td>\n",
       "      <td>849</td>\n",
       "      <td>26</td>\n",
       "      <td>jun</td>\n",
       "      <td>4.0</td>\n",
       "      <td>0</td>\n",
       "      <td>unknown</td>\n",
       "    </tr>\n",
       "    <tr>\n",
       "      <th>1</th>\n",
       "      <td>id_10523</td>\n",
       "      <td>46.0</td>\n",
       "      <td>technician</td>\n",
       "      <td>married</td>\n",
       "      <td>secondary</td>\n",
       "      <td>no</td>\n",
       "      <td>656.0</td>\n",
       "      <td>no</td>\n",
       "      <td>no</td>\n",
       "      <td>cellular</td>\n",
       "      <td>990</td>\n",
       "      <td>5</td>\n",
       "      <td>feb</td>\n",
       "      <td>4.0</td>\n",
       "      <td>0</td>\n",
       "      <td>unknown</td>\n",
       "    </tr>\n",
       "    <tr>\n",
       "      <th>2</th>\n",
       "      <td>id_43951</td>\n",
       "      <td>34.0</td>\n",
       "      <td>services</td>\n",
       "      <td>single</td>\n",
       "      <td>secondary</td>\n",
       "      <td>no</td>\n",
       "      <td>2.0</td>\n",
       "      <td>yes</td>\n",
       "      <td>no</td>\n",
       "      <td>unknown</td>\n",
       "      <td>886</td>\n",
       "      <td>20</td>\n",
       "      <td>may</td>\n",
       "      <td>3.0</td>\n",
       "      <td>0</td>\n",
       "      <td>unknown</td>\n",
       "    </tr>\n",
       "    <tr>\n",
       "      <th>3</th>\n",
       "      <td>id_12681</td>\n",
       "      <td>65.0</td>\n",
       "      <td>retired</td>\n",
       "      <td>married</td>\n",
       "      <td>primary</td>\n",
       "      <td>no</td>\n",
       "      <td>2880.0</td>\n",
       "      <td>no</td>\n",
       "      <td>no</td>\n",
       "      <td>cellular</td>\n",
       "      <td>913</td>\n",
       "      <td>23</td>\n",
       "      <td>apr</td>\n",
       "      <td>1.0</td>\n",
       "      <td>0</td>\n",
       "      <td>unknown</td>\n",
       "    </tr>\n",
       "    <tr>\n",
       "      <th>4</th>\n",
       "      <td>id_2153</td>\n",
       "      <td>52.0</td>\n",
       "      <td>blue-collar</td>\n",
       "      <td>married</td>\n",
       "      <td>tertiary</td>\n",
       "      <td>no</td>\n",
       "      <td>1779.0</td>\n",
       "      <td>no</td>\n",
       "      <td>no</td>\n",
       "      <td>cellular</td>\n",
       "      <td>703</td>\n",
       "      <td>19</td>\n",
       "      <td>nov</td>\n",
       "      <td>3.0</td>\n",
       "      <td>1</td>\n",
       "      <td>failure</td>\n",
       "    </tr>\n",
       "  </tbody>\n",
       "</table>\n",
       "</div>"
      ],
      "text/plain": [
       "  customer_id  customer_age     job_type  marital  education default  balance  \\\n",
       "0    id_43823          28.0   management   single   tertiary      no    285.0   \n",
       "1    id_10523          46.0   technician  married  secondary      no    656.0   \n",
       "2    id_43951          34.0     services   single  secondary      no      2.0   \n",
       "3    id_12681          65.0      retired  married    primary      no   2880.0   \n",
       "4     id_2153          52.0  blue-collar  married   tertiary      no   1779.0   \n",
       "\n",
       "  housing_loan personal_loan communication_type  last_contact_duration  \\\n",
       "0          yes            no            unknown                    849   \n",
       "1           no            no           cellular                    990   \n",
       "2          yes            no            unknown                    886   \n",
       "3           no            no           cellular                    913   \n",
       "4           no            no           cellular                    703   \n",
       "\n",
       "   day_of_month month  num_contacts_in_campaign  num_contacts_prev_campaign  \\\n",
       "0            26   jun                       4.0                           0   \n",
       "1             5   feb                       4.0                           0   \n",
       "2            20   may                       3.0                           0   \n",
       "3            23   apr                       1.0                           0   \n",
       "4            19   nov                       3.0                           1   \n",
       "\n",
       "  prev_campaign_outcome  \n",
       "0               unknown  \n",
       "1               unknown  \n",
       "2               unknown  \n",
       "3               unknown  \n",
       "4               failure  "
      ]
     },
     "execution_count": 40,
     "metadata": {},
     "output_type": "execute_result"
    }
   ],
   "source": [
    "newdata.head()"
   ]
  },
  {
   "cell_type": "code",
   "execution_count": 41,
   "id": "f68cd22f",
   "metadata": {},
   "outputs": [
    {
     "data": {
      "text/plain": [
       "(7767, 16)"
      ]
     },
     "execution_count": 41,
     "metadata": {},
     "output_type": "execute_result"
    }
   ],
   "source": [
    "newdata.shape"
   ]
  },
  {
   "cell_type": "code",
   "execution_count": 42,
   "id": "97732e2a",
   "metadata": {},
   "outputs": [
    {
     "name": "stdout",
     "output_type": "stream",
     "text": [
      "<class 'pandas.core.frame.DataFrame'>\n",
      "RangeIndex: 7767 entries, 0 to 7766\n",
      "Data columns (total 16 columns):\n",
      " #   Column                      Non-Null Count  Dtype  \n",
      "---  ------                      --------------  -----  \n",
      " 0   customer_id                 7767 non-null   object \n",
      " 1   customer_age                7625 non-null   float64\n",
      " 2   job_type                    7767 non-null   object \n",
      " 3   marital                     7724 non-null   object \n",
      " 4   education                   7767 non-null   object \n",
      " 5   default                     7767 non-null   object \n",
      " 6   balance                     7645 non-null   float64\n",
      " 7   housing_loan                7767 non-null   object \n",
      " 8   personal_loan               7731 non-null   object \n",
      " 9   communication_type          7767 non-null   object \n",
      " 10  last_contact_duration       7767 non-null   int64  \n",
      " 11  day_of_month                7767 non-null   int64  \n",
      " 12  month                       7767 non-null   object \n",
      " 13  num_contacts_in_campaign    7751 non-null   float64\n",
      " 14  num_contacts_prev_campaign  7767 non-null   int64  \n",
      " 15  prev_campaign_outcome       7767 non-null   object \n",
      "dtypes: float64(3), int64(3), object(10)\n",
      "memory usage: 971.0+ KB\n"
     ]
    }
   ],
   "source": [
    "newdata.info()"
   ]
  },
  {
   "cell_type": "code",
   "execution_count": 43,
   "id": "5f711688",
   "metadata": {},
   "outputs": [
    {
     "data": {
      "text/plain": [
       "customer_id                     0\n",
       "customer_age                  142\n",
       "job_type                        0\n",
       "marital                        43\n",
       "education                       0\n",
       "default                         0\n",
       "balance                       122\n",
       "housing_loan                    0\n",
       "personal_loan                  36\n",
       "communication_type              0\n",
       "last_contact_duration           0\n",
       "day_of_month                    0\n",
       "month                           0\n",
       "num_contacts_in_campaign       16\n",
       "num_contacts_prev_campaign      0\n",
       "prev_campaign_outcome           0\n",
       "dtype: int64"
      ]
     },
     "execution_count": 43,
     "metadata": {},
     "output_type": "execute_result"
    }
   ],
   "source": [
    "pd.isnull(newdata).sum()"
   ]
  },
  {
   "cell_type": "code",
   "execution_count": 44,
   "id": "a4f5fd6b",
   "metadata": {},
   "outputs": [
    {
     "data": {
      "text/plain": [
       "<AxesSubplot:xlabel='job_type', ylabel='customer_age'>"
      ]
     },
     "execution_count": 44,
     "metadata": {},
     "output_type": "execute_result"
    },
    {
     "data": {
      "image/png": "[encoded data removed]",
      "text/plain": [
       "<Figure size 1080x576 with 1 Axes>"
      ]
     },
     "metadata": {
      "needs_background": "light"
     },
     "output_type": "display_data"
    }
   ],
   "source": [
    "plt.figure(figsize = (15,8))\n",
    "sns.boxplot(x = 'job_type', y = 'customer_age', data = newdata)"
   ]
  },
  {
   "cell_type": "code",
   "execution_count": 45,
   "id": "da1a61f8",
   "metadata": {},
   "outputs": [
    {
     "data": {
      "text/plain": [
       "<seaborn.axisgrid.PairGrid at 0x1189129baf0>"
      ]
     },
     "execution_count": 45,
     "metadata": {},
     "output_type": "execute_result"
    },
    {
     "data": {
      "text/plain": [
       "<Figure size 1080x576 with 0 Axes>"
      ]
     },
     "metadata": {},
     "output_type": "display_data"
    },
    {
     "data": {
      "image/png": "[encoded data removed]",
      "text/plain": [
       "<Figure size 180x180 with 2 Axes>"
      ]
     },
     "metadata": {
      "needs_background": "light"
     },
     "output_type": "display_data"
    }
   ],
   "source": [
    "plt.figure(figsize = (15,8))\n",
    "sns.pairplot(newdata[['balance']])"
   ]
  },
  {
   "cell_type": "code",
   "execution_count": 46,
   "id": "36571d18",
   "metadata": {},
   "outputs": [
    {
     "data": {
      "text/plain": [
       "<AxesSubplot:>"
      ]
     },
     "execution_count": 46,
     "metadata": {},
     "output_type": "execute_result"
    },
    {
     "data": {
      "image/png": "[encoded data removed]",
      "text/plain": [
       "<Figure size 432x288 with 2 Axes>"
      ]
     },
     "metadata": {
      "needs_background": "light"
     },
     "output_type": "display_data"
    }
   ],
   "source": [
    "sns.heatmap(pd.isnull(newdata))"
   ]
  },
  {
   "cell_type": "code",
   "execution_count": 47,
   "id": "176f5968",
   "metadata": {},
   "outputs": [],
   "source": [
    "newdata['customer_age'] = newdata[['customer_age','job_type']].apply(age,axis = 1)"
   ]
  },
  {
   "cell_type": "code",
   "execution_count": 48,
   "id": "d2675964",
   "metadata": {},
   "outputs": [
    {
     "data": {
      "text/plain": [
       "<AxesSubplot:>"
      ]
     },
     "execution_count": 48,
     "metadata": {},
     "output_type": "execute_result"
    },
    {
     "data": {
      "image/png": "[encoded data removed]",
      "text/plain": [
       "<Figure size 432x288 with 2 Axes>"
      ]
     },
     "metadata": {
      "needs_background": "light"
     },
     "output_type": "display_data"
    }
   ],
   "source": [
    "sns.heatmap(pd.isnull(newdata))"
   ]
  },
  {
   "cell_type": "code",
   "execution_count": 49,
   "id": "14b175ad",
   "metadata": {},
   "outputs": [],
   "source": [
    "newdata.dropna(inplace = True)"
   ]
  },
  {
   "cell_type": "code",
   "execution_count": 50,
   "id": "930db818",
   "metadata": {},
   "outputs": [
    {
     "data": {
      "text/plain": [
       "<AxesSubplot:>"
      ]
     },
     "execution_count": 50,
     "metadata": {},
     "output_type": "execute_result"
    },
    {
     "data": {
      "image/png": "[encoded data removed]",
      "text/plain": [
       "<Figure size 432x288 with 2 Axes>"
      ]
     },
     "metadata": {
      "needs_background": "light"
     },
     "output_type": "display_data"
    }
   ],
   "source": [
    "sns.heatmap(pd.isnull(newdata))"
   ]
  },
  {
   "cell_type": "code",
   "execution_count": 51,
   "id": "5b8f2319",
   "metadata": {},
   "outputs": [
    {
     "data": {
      "text/html": [
       "<div>\n",
       "<style scoped>\n",
       "    .dataframe tbody tr th:only-of-type {\n",
       "        vertical-align: middle;\n",
       "    }\n",
       "\n",
       "    .dataframe tbody tr th {\n",
       "        vertical-align: top;\n",
       "    }\n",
       "\n",
       "    .dataframe thead th {\n",
       "        text-align: right;\n",
       "    }\n",
       "</style>\n",
       "<table border=\"1\" class=\"dataframe\">\n",
       "  <thead>\n",
       "    <tr style=\"text-align: right;\">\n",
       "      <th></th>\n",
       "      <th>customer_age</th>\n",
       "      <th>balance</th>\n",
       "      <th>last_contact_duration</th>\n",
       "      <th>day_of_month</th>\n",
       "      <th>num_contacts_in_campaign</th>\n",
       "      <th>num_contacts_prev_campaign</th>\n",
       "    </tr>\n",
       "  </thead>\n",
       "  <tbody>\n",
       "    <tr>\n",
       "      <th>count</th>\n",
       "      <td>7552.000000</td>\n",
       "      <td>7552.000000</td>\n",
       "      <td>7552.000000</td>\n",
       "      <td>7552.000000</td>\n",
       "      <td>7552.000000</td>\n",
       "      <td>7552.000000</td>\n",
       "    </tr>\n",
       "    <tr>\n",
       "      <th>mean</th>\n",
       "      <td>40.542505</td>\n",
       "      <td>1379.902807</td>\n",
       "      <td>854.295948</td>\n",
       "      <td>15.886388</td>\n",
       "      <td>2.787076</td>\n",
       "      <td>0.617452</td>\n",
       "    </tr>\n",
       "    <tr>\n",
       "      <th>std</th>\n",
       "      <td>10.673421</td>\n",
       "      <td>3286.176397</td>\n",
       "      <td>74.677203</td>\n",
       "      <td>8.327368</td>\n",
       "      <td>3.177352</td>\n",
       "      <td>2.081565</td>\n",
       "    </tr>\n",
       "    <tr>\n",
       "      <th>min</th>\n",
       "      <td>18.000000</td>\n",
       "      <td>-4062.000000</td>\n",
       "      <td>663.000000</td>\n",
       "      <td>1.000000</td>\n",
       "      <td>1.000000</td>\n",
       "      <td>0.000000</td>\n",
       "    </tr>\n",
       "    <tr>\n",
       "      <th>25%</th>\n",
       "      <td>32.000000</td>\n",
       "      <td>74.000000</td>\n",
       "      <td>809.000000</td>\n",
       "      <td>8.000000</td>\n",
       "      <td>1.000000</td>\n",
       "      <td>0.000000</td>\n",
       "    </tr>\n",
       "    <tr>\n",
       "      <th>50%</th>\n",
       "      <td>38.000000</td>\n",
       "      <td>467.000000</td>\n",
       "      <td>870.000000</td>\n",
       "      <td>16.000000</td>\n",
       "      <td>2.000000</td>\n",
       "      <td>0.000000</td>\n",
       "    </tr>\n",
       "    <tr>\n",
       "      <th>75%</th>\n",
       "      <td>48.000000</td>\n",
       "      <td>1429.500000</td>\n",
       "      <td>897.000000</td>\n",
       "      <td>21.000000</td>\n",
       "      <td>3.000000</td>\n",
       "      <td>0.000000</td>\n",
       "    </tr>\n",
       "    <tr>\n",
       "      <th>max</th>\n",
       "      <td>97.000000</td>\n",
       "      <td>102128.000000</td>\n",
       "      <td>1020.000000</td>\n",
       "      <td>31.000000</td>\n",
       "      <td>46.000000</td>\n",
       "      <td>55.000000</td>\n",
       "    </tr>\n",
       "  </tbody>\n",
       "</table>\n",
       "</div>"
      ],
      "text/plain": [
       "       customer_age        balance  last_contact_duration  day_of_month  \\\n",
       "count   7552.000000    7552.000000            7552.000000   7552.000000   \n",
       "mean      40.542505    1379.902807             854.295948     15.886388   \n",
       "std       10.673421    3286.176397              74.677203      8.327368   \n",
       "min       18.000000   -4062.000000             663.000000      1.000000   \n",
       "25%       32.000000      74.000000             809.000000      8.000000   \n",
       "50%       38.000000     467.000000             870.000000     16.000000   \n",
       "75%       48.000000    1429.500000             897.000000     21.000000   \n",
       "max       97.000000  102128.000000            1020.000000     31.000000   \n",
       "\n",
       "       num_contacts_in_campaign  num_contacts_prev_campaign  \n",
       "count               7552.000000                 7552.000000  \n",
       "mean                   2.787076                    0.617452  \n",
       "std                    3.177352                    2.081565  \n",
       "min                    1.000000                    0.000000  \n",
       "25%                    1.000000                    0.000000  \n",
       "50%                    2.000000                    0.000000  \n",
       "75%                    3.000000                    0.000000  \n",
       "max                   46.000000                   55.000000  "
      ]
     },
     "execution_count": 51,
     "metadata": {},
     "output_type": "execute_result"
    }
   ],
   "source": [
    "newdata.describe()"
   ]
  },
  {
   "cell_type": "code",
   "execution_count": 52,
   "id": "22090a02",
   "metadata": {},
   "outputs": [
    {
     "data": {
      "text/plain": [
       "(7552, 16)"
      ]
     },
     "execution_count": 52,
     "metadata": {},
     "output_type": "execute_result"
    }
   ],
   "source": [
    "newdata.shape"
   ]
  },
  {
   "cell_type": "code",
   "execution_count": 53,
   "id": "c54950af",
   "metadata": {},
   "outputs": [
    {
     "name": "stdout",
     "output_type": "stream",
     "text": [
      "<class 'pandas.core.frame.DataFrame'>\n",
      "Int64Index: 7552 entries, 0 to 7766\n",
      "Data columns (total 16 columns):\n",
      " #   Column                      Non-Null Count  Dtype  \n",
      "---  ------                      --------------  -----  \n",
      " 0   customer_id                 7552 non-null   object \n",
      " 1   customer_age                7552 non-null   float64\n",
      " 2   job_type                    7552 non-null   object \n",
      " 3   marital                     7552 non-null   object \n",
      " 4   education                   7552 non-null   object \n",
      " 5   default                     7552 non-null   object \n",
      " 6   balance                     7552 non-null   float64\n",
      " 7   housing_loan                7552 non-null   object \n",
      " 8   personal_loan               7552 non-null   object \n",
      " 9   communication_type          7552 non-null   object \n",
      " 10  last_contact_duration       7552 non-null   int64  \n",
      " 11  day_of_month                7552 non-null   int64  \n",
      " 12  month                       7552 non-null   object \n",
      " 13  num_contacts_in_campaign    7552 non-null   float64\n",
      " 14  num_contacts_prev_campaign  7552 non-null   int64  \n",
      " 15  prev_campaign_outcome       7552 non-null   object \n",
      "dtypes: float64(3), int64(3), object(10)\n",
      "memory usage: 1003.0+ KB\n"
     ]
    }
   ],
   "source": [
    "newdata.info()"
   ]
  },
  {
   "cell_type": "code",
   "execution_count": null,
   "id": "a53e699d",
   "metadata": {},
   "outputs": [],
   "source": []
  },
  {
   "cell_type": "code",
   "execution_count": null,
   "id": "75f769da",
   "metadata": {},
   "outputs": [],
   "source": []
  },
  {
   "cell_type": "code",
   "execution_count": null,
   "id": "2db7aa7e",
   "metadata": {},
   "outputs": [],
   "source": []
  },
  {
   "cell_type": "code",
   "execution_count": 54,
   "id": "87f54d9d",
   "metadata": {},
   "outputs": [],
   "source": [
    "transnewdata = pd.get_dummies(newdata, columns =['job_type','marital','education','default','housing_loan','personal_loan','communication_type','month','prev_campaign_outcome'], drop_first = True)"
   ]
  },
  {
   "cell_type": "code",
   "execution_count": 55,
   "id": "ec3dd15f",
   "metadata": {},
   "outputs": [
    {
     "name": "stdout",
     "output_type": "stream",
     "text": [
      "<class 'pandas.core.frame.DataFrame'>\n",
      "Int64Index: 7552 entries, 0 to 7766\n",
      "Data columns (total 42 columns):\n",
      " #   Column                         Non-Null Count  Dtype  \n",
      "---  ------                         --------------  -----  \n",
      " 0   customer_id                    7552 non-null   object \n",
      " 1   customer_age                   7552 non-null   float64\n",
      " 2   balance                        7552 non-null   float64\n",
      " 3   last_contact_duration          7552 non-null   int64  \n",
      " 4   day_of_month                   7552 non-null   int64  \n",
      " 5   num_contacts_in_campaign       7552 non-null   float64\n",
      " 6   num_contacts_prev_campaign     7552 non-null   int64  \n",
      " 7   job_type_blue-collar           7552 non-null   uint8  \n",
      " 8   job_type_entrepreneur          7552 non-null   uint8  \n",
      " 9   job_type_housemaid             7552 non-null   uint8  \n",
      " 10  job_type_management            7552 non-null   uint8  \n",
      " 11  job_type_retired               7552 non-null   uint8  \n",
      " 12  job_type_self-employed         7552 non-null   uint8  \n",
      " 13  job_type_services              7552 non-null   uint8  \n",
      " 14  job_type_student               7552 non-null   uint8  \n",
      " 15  job_type_technician            7552 non-null   uint8  \n",
      " 16  job_type_unemployed            7552 non-null   uint8  \n",
      " 17  job_type_unknown               7552 non-null   uint8  \n",
      " 18  marital_married                7552 non-null   uint8  \n",
      " 19  marital_single                 7552 non-null   uint8  \n",
      " 20  education_secondary            7552 non-null   uint8  \n",
      " 21  education_tertiary             7552 non-null   uint8  \n",
      " 22  education_unknown              7552 non-null   uint8  \n",
      " 23  default_yes                    7552 non-null   uint8  \n",
      " 24  housing_loan_yes               7552 non-null   uint8  \n",
      " 25  personal_loan_yes              7552 non-null   uint8  \n",
      " 26  communication_type_telephone   7552 non-null   uint8  \n",
      " 27  communication_type_unknown     7552 non-null   uint8  \n",
      " 28  month_aug                      7552 non-null   uint8  \n",
      " 29  month_dec                      7552 non-null   uint8  \n",
      " 30  month_feb                      7552 non-null   uint8  \n",
      " 31  month_jan                      7552 non-null   uint8  \n",
      " 32  month_jul                      7552 non-null   uint8  \n",
      " 33  month_jun                      7552 non-null   uint8  \n",
      " 34  month_mar                      7552 non-null   uint8  \n",
      " 35  month_may                      7552 non-null   uint8  \n",
      " 36  month_nov                      7552 non-null   uint8  \n",
      " 37  month_oct                      7552 non-null   uint8  \n",
      " 38  month_sep                      7552 non-null   uint8  \n",
      " 39  prev_campaign_outcome_other    7552 non-null   uint8  \n",
      " 40  prev_campaign_outcome_success  7552 non-null   uint8  \n",
      " 41  prev_campaign_outcome_unknown  7552 non-null   uint8  \n",
      "dtypes: float64(3), int64(3), object(1), uint8(35)\n",
      "memory usage: 730.1+ KB\n"
     ]
    }
   ],
   "source": [
    "transnewdata.info()"
   ]
  },
  {
   "cell_type": "code",
   "execution_count": 56,
   "id": "54954f7f",
   "metadata": {},
   "outputs": [],
   "source": [
    "xnew = transnewdata.drop('customer_id',axis = 1)"
   ]
  },
  {
   "cell_type": "code",
   "execution_count": 57,
   "id": "135afca4",
   "metadata": {},
   "outputs": [],
   "source": [
    "xnew = xnew[['customer_age', 'balance', 'day_of_month', 'last_contact_duration',\n",
    "       'num_contacts_in_campaign', 'num_contacts_prev_campaign',\n",
    "       'job_type_blue-collar', 'job_type_entrepreneur', 'job_type_housemaid',\n",
    "       'job_type_management', 'job_type_retired', 'job_type_self-employed',\n",
    "       'job_type_services', 'job_type_student', 'job_type_technician',\n",
    "       'job_type_unemployed', 'job_type_unknown', 'marital_married',\n",
    "       'marital_single', 'education_secondary', 'education_tertiary',\n",
    "       'education_unknown', 'default_yes', 'housing_loan_yes',\n",
    "       'personal_loan_yes', 'communication_type_telephone',\n",
    "       'communication_type_unknown', 'month_aug', 'month_dec', 'month_feb',\n",
    "       'month_jan', 'month_jul', 'month_jun', 'month_mar', 'month_may',\n",
    "       'month_nov', 'month_oct', 'month_sep', 'prev_campaign_outcome_other',\n",
    "       'prev_campaign_outcome_success', 'prev_campaign_outcome_unknown']]"
   ]
  },
  {
   "cell_type": "code",
   "execution_count": 60,
   "id": "a8de6a94",
   "metadata": {},
   "outputs": [
    {
     "data": {
      "text/html": [
       "<div>\n",
       "<style scoped>\n",
       "    .dataframe tbody tr th:only-of-type {\n",
       "        vertical-align: middle;\n",
       "    }\n",
       "\n",
       "    .dataframe tbody tr th {\n",
       "        vertical-align: top;\n",
       "    }\n",
       "\n",
       "    .dataframe thead th {\n",
       "        text-align: right;\n",
       "    }\n",
       "</style>\n",
       "<table border=\"1\" class=\"dataframe\">\n",
       "  <thead>\n",
       "    <tr style=\"text-align: right;\">\n",
       "      <th></th>\n",
       "      <th>customer_age</th>\n",
       "      <th>balance</th>\n",
       "      <th>day_of_month</th>\n",
       "      <th>last_contact_duration</th>\n",
       "      <th>num_contacts_in_campaign</th>\n",
       "      <th>num_contacts_prev_campaign</th>\n",
       "      <th>job_type_blue-collar</th>\n",
       "      <th>job_type_entrepreneur</th>\n",
       "      <th>job_type_housemaid</th>\n",
       "      <th>job_type_management</th>\n",
       "      <th>...</th>\n",
       "      <th>month_jul</th>\n",
       "      <th>month_jun</th>\n",
       "      <th>month_mar</th>\n",
       "      <th>month_may</th>\n",
       "      <th>month_nov</th>\n",
       "      <th>month_oct</th>\n",
       "      <th>month_sep</th>\n",
       "      <th>prev_campaign_outcome_other</th>\n",
       "      <th>prev_campaign_outcome_success</th>\n",
       "      <th>prev_campaign_outcome_unknown</th>\n",
       "    </tr>\n",
       "  </thead>\n",
       "  <tbody>\n",
       "    <tr>\n",
       "      <th>0</th>\n",
       "      <td>28.0</td>\n",
       "      <td>285.0</td>\n",
       "      <td>26</td>\n",
       "      <td>849</td>\n",
       "      <td>4.0</td>\n",
       "      <td>0</td>\n",
       "      <td>0</td>\n",
       "      <td>0</td>\n",
       "      <td>0</td>\n",
       "      <td>1</td>\n",
       "      <td>...</td>\n",
       "      <td>0</td>\n",
       "      <td>1</td>\n",
       "      <td>0</td>\n",
       "      <td>0</td>\n",
       "      <td>0</td>\n",
       "      <td>0</td>\n",
       "      <td>0</td>\n",
       "      <td>0</td>\n",
       "      <td>0</td>\n",
       "      <td>1</td>\n",
       "    </tr>\n",
       "    <tr>\n",
       "      <th>1</th>\n",
       "      <td>46.0</td>\n",
       "      <td>656.0</td>\n",
       "      <td>5</td>\n",
       "      <td>990</td>\n",
       "      <td>4.0</td>\n",
       "      <td>0</td>\n",
       "      <td>0</td>\n",
       "      <td>0</td>\n",
       "      <td>0</td>\n",
       "      <td>0</td>\n",
       "      <td>...</td>\n",
       "      <td>0</td>\n",
       "      <td>0</td>\n",
       "      <td>0</td>\n",
       "      <td>0</td>\n",
       "      <td>0</td>\n",
       "      <td>0</td>\n",
       "      <td>0</td>\n",
       "      <td>0</td>\n",
       "      <td>0</td>\n",
       "      <td>1</td>\n",
       "    </tr>\n",
       "    <tr>\n",
       "      <th>2</th>\n",
       "      <td>34.0</td>\n",
       "      <td>2.0</td>\n",
       "      <td>20</td>\n",
       "      <td>886</td>\n",
       "      <td>3.0</td>\n",
       "      <td>0</td>\n",
       "      <td>0</td>\n",
       "      <td>0</td>\n",
       "      <td>0</td>\n",
       "      <td>0</td>\n",
       "      <td>...</td>\n",
       "      <td>0</td>\n",
       "      <td>0</td>\n",
       "      <td>0</td>\n",
       "      <td>1</td>\n",
       "      <td>0</td>\n",
       "      <td>0</td>\n",
       "      <td>0</td>\n",
       "      <td>0</td>\n",
       "      <td>0</td>\n",
       "      <td>1</td>\n",
       "    </tr>\n",
       "    <tr>\n",
       "      <th>3</th>\n",
       "      <td>65.0</td>\n",
       "      <td>2880.0</td>\n",
       "      <td>23</td>\n",
       "      <td>913</td>\n",
       "      <td>1.0</td>\n",
       "      <td>0</td>\n",
       "      <td>0</td>\n",
       "      <td>0</td>\n",
       "      <td>0</td>\n",
       "      <td>0</td>\n",
       "      <td>...</td>\n",
       "      <td>0</td>\n",
       "      <td>0</td>\n",
       "      <td>0</td>\n",
       "      <td>0</td>\n",
       "      <td>0</td>\n",
       "      <td>0</td>\n",
       "      <td>0</td>\n",
       "      <td>0</td>\n",
       "      <td>0</td>\n",
       "      <td>1</td>\n",
       "    </tr>\n",
       "    <tr>\n",
       "      <th>4</th>\n",
       "      <td>52.0</td>\n",
       "      <td>1779.0</td>\n",
       "      <td>19</td>\n",
       "      <td>703</td>\n",
       "      <td>3.0</td>\n",
       "      <td>1</td>\n",
       "      <td>1</td>\n",
       "      <td>0</td>\n",
       "      <td>0</td>\n",
       "      <td>0</td>\n",
       "      <td>...</td>\n",
       "      <td>0</td>\n",
       "      <td>0</td>\n",
       "      <td>0</td>\n",
       "      <td>0</td>\n",
       "      <td>1</td>\n",
       "      <td>0</td>\n",
       "      <td>0</td>\n",
       "      <td>0</td>\n",
       "      <td>0</td>\n",
       "      <td>0</td>\n",
       "    </tr>\n",
       "  </tbody>\n",
       "</table>\n",
       "<p>5 rows × 41 columns</p>\n",
       "</div>"
      ],
      "text/plain": [
       "   customer_age  balance  day_of_month  last_contact_duration  \\\n",
       "0          28.0    285.0            26                    849   \n",
       "1          46.0    656.0             5                    990   \n",
       "2          34.0      2.0            20                    886   \n",
       "3          65.0   2880.0            23                    913   \n",
       "4          52.0   1779.0            19                    703   \n",
       "\n",
       "   num_contacts_in_campaign  num_contacts_prev_campaign  job_type_blue-collar  \\\n",
       "0                       4.0                           0                     0   \n",
       "1                       4.0                           0                     0   \n",
       "2                       3.0                           0                     0   \n",
       "3                       1.0                           0                     0   \n",
       "4                       3.0                           1                     1   \n",
       "\n",
       "   job_type_entrepreneur  job_type_housemaid  job_type_management  ...  \\\n",
       "0                      0                   0                    1  ...   \n",
       "1                      0                   0                    0  ...   \n",
       "2                      0                   0                    0  ...   \n",
       "3                      0                   0                    0  ...   \n",
       "4                      0                   0                    0  ...   \n",
       "\n",
       "   month_jul  month_jun  month_mar  month_may  month_nov  month_oct  \\\n",
       "0          0          1          0          0          0          0   \n",
       "1          0          0          0          0          0          0   \n",
       "2          0          0          0          1          0          0   \n",
       "3          0          0          0          0          0          0   \n",
       "4          0          0          0          0          1          0   \n",
       "\n",
       "   month_sep  prev_campaign_outcome_other  prev_campaign_outcome_success  \\\n",
       "0          0                            0                              0   \n",
       "1          0                            0                              0   \n",
       "2          0                            0                              0   \n",
       "3          0                            0                              0   \n",
       "4          0                            0                              0   \n",
       "\n",
       "   prev_campaign_outcome_unknown  \n",
       "0                              1  \n",
       "1                              1  \n",
       "2                              1  \n",
       "3                              1  \n",
       "4                              0  \n",
       "\n",
       "[5 rows x 41 columns]"
      ]
     },
     "execution_count": 60,
     "metadata": {},
     "output_type": "execute_result"
    }
   ],
   "source": [
    "xnew.head()"
   ]
  },
  {
   "cell_type": "code",
   "execution_count": null,
   "id": "82423c57",
   "metadata": {},
   "outputs": [],
   "source": []
  },
  {
   "cell_type": "code",
   "execution_count": 77,
   "id": "90b39e61",
   "metadata": {},
   "outputs": [],
   "source": [
    "ynewpred = (log_model.predict_proba(xnew)[:,1]>=0.17).astype(int)"
   ]
  },
  {
   "cell_type": "code",
   "execution_count": 78,
   "id": "7bb0cedb",
   "metadata": {},
   "outputs": [
    {
     "data": {
      "text/plain": [
       "array([0, 0, 0, ..., 1, 0, 1])"
      ]
     },
     "execution_count": 78,
     "metadata": {},
     "output_type": "execute_result"
    }
   ],
   "source": [
    "ynewpred"
   ]
  },
  {
   "cell_type": "code",
   "execution_count": null,
   "id": "f411f424",
   "metadata": {},
   "outputs": [],
   "source": []
  },
  {
   "cell_type": "code",
   "execution_count": 79,
   "id": "26664570",
   "metadata": {},
   "outputs": [],
   "source": [
    "outcometermdeposit =pd.DataFrame(ynewpred)"
   ]
  },
  {
   "cell_type": "code",
   "execution_count": 80,
   "id": "2b14f7f5",
   "metadata": {},
   "outputs": [
    {
     "data": {
      "text/html": [
       "<div>\n",
       "<style scoped>\n",
       "    .dataframe tbody tr th:only-of-type {\n",
       "        vertical-align: middle;\n",
       "    }\n",
       "\n",
       "    .dataframe tbody tr th {\n",
       "        vertical-align: top;\n",
       "    }\n",
       "\n",
       "    .dataframe thead th {\n",
       "        text-align: right;\n",
       "    }\n",
       "</style>\n",
       "<table border=\"1\" class=\"dataframe\">\n",
       "  <thead>\n",
       "    <tr style=\"text-align: right;\">\n",
       "      <th></th>\n",
       "      <th>0</th>\n",
       "    </tr>\n",
       "  </thead>\n",
       "  <tbody>\n",
       "    <tr>\n",
       "      <th>0</th>\n",
       "      <td>0</td>\n",
       "    </tr>\n",
       "    <tr>\n",
       "      <th>1</th>\n",
       "      <td>0</td>\n",
       "    </tr>\n",
       "    <tr>\n",
       "      <th>2</th>\n",
       "      <td>0</td>\n",
       "    </tr>\n",
       "    <tr>\n",
       "      <th>3</th>\n",
       "      <td>1</td>\n",
       "    </tr>\n",
       "    <tr>\n",
       "      <th>4</th>\n",
       "      <td>0</td>\n",
       "    </tr>\n",
       "  </tbody>\n",
       "</table>\n",
       "</div>"
      ],
      "text/plain": [
       "   0\n",
       "0  0\n",
       "1  0\n",
       "2  0\n",
       "3  1\n",
       "4  0"
      ]
     },
     "execution_count": 80,
     "metadata": {},
     "output_type": "execute_result"
    }
   ],
   "source": [
    "outcometermdeposit.head()"
   ]
  },
  {
   "cell_type": "code",
   "execution_count": 81,
   "id": "8ffa4abf",
   "metadata": {},
   "outputs": [
    {
     "data": {
      "text/plain": [
       "pandas.core.frame.DataFrame"
      ]
     },
     "execution_count": 81,
     "metadata": {},
     "output_type": "execute_result"
    }
   ],
   "source": [
    "type(xnew)"
   ]
  },
  {
   "cell_type": "code",
   "execution_count": 82,
   "id": "2c08a27b",
   "metadata": {},
   "outputs": [],
   "source": [
    "newdata['term_deposit_outcome'] = ynewpred"
   ]
  },
  {
   "cell_type": "code",
   "execution_count": 83,
   "id": "fd3cd5d5",
   "metadata": {},
   "outputs": [
    {
     "data": {
      "text/html": [
       "<div>\n",
       "<style scoped>\n",
       "    .dataframe tbody tr th:only-of-type {\n",
       "        vertical-align: middle;\n",
       "    }\n",
       "\n",
       "    .dataframe tbody tr th {\n",
       "        vertical-align: top;\n",
       "    }\n",
       "\n",
       "    .dataframe thead th {\n",
       "        text-align: right;\n",
       "    }\n",
       "</style>\n",
       "<table border=\"1\" class=\"dataframe\">\n",
       "  <thead>\n",
       "    <tr style=\"text-align: right;\">\n",
       "      <th></th>\n",
       "      <th>customer_id</th>\n",
       "      <th>customer_age</th>\n",
       "      <th>job_type</th>\n",
       "      <th>marital</th>\n",
       "      <th>education</th>\n",
       "      <th>default</th>\n",
       "      <th>balance</th>\n",
       "      <th>housing_loan</th>\n",
       "      <th>personal_loan</th>\n",
       "      <th>communication_type</th>\n",
       "      <th>last_contact_duration</th>\n",
       "      <th>day_of_month</th>\n",
       "      <th>month</th>\n",
       "      <th>num_contacts_in_campaign</th>\n",
       "      <th>num_contacts_prev_campaign</th>\n",
       "      <th>prev_campaign_outcome</th>\n",
       "      <th>term_deposit_outcome</th>\n",
       "    </tr>\n",
       "  </thead>\n",
       "  <tbody>\n",
       "    <tr>\n",
       "      <th>0</th>\n",
       "      <td>id_43823</td>\n",
       "      <td>28.0</td>\n",
       "      <td>management</td>\n",
       "      <td>single</td>\n",
       "      <td>tertiary</td>\n",
       "      <td>no</td>\n",
       "      <td>285.0</td>\n",
       "      <td>yes</td>\n",
       "      <td>no</td>\n",
       "      <td>unknown</td>\n",
       "      <td>849</td>\n",
       "      <td>26</td>\n",
       "      <td>jun</td>\n",
       "      <td>4.0</td>\n",
       "      <td>0</td>\n",
       "      <td>unknown</td>\n",
       "      <td>0</td>\n",
       "    </tr>\n",
       "    <tr>\n",
       "      <th>1</th>\n",
       "      <td>id_10523</td>\n",
       "      <td>46.0</td>\n",
       "      <td>technician</td>\n",
       "      <td>married</td>\n",
       "      <td>secondary</td>\n",
       "      <td>no</td>\n",
       "      <td>656.0</td>\n",
       "      <td>no</td>\n",
       "      <td>no</td>\n",
       "      <td>cellular</td>\n",
       "      <td>990</td>\n",
       "      <td>5</td>\n",
       "      <td>feb</td>\n",
       "      <td>4.0</td>\n",
       "      <td>0</td>\n",
       "      <td>unknown</td>\n",
       "      <td>0</td>\n",
       "    </tr>\n",
       "    <tr>\n",
       "      <th>2</th>\n",
       "      <td>id_43951</td>\n",
       "      <td>34.0</td>\n",
       "      <td>services</td>\n",
       "      <td>single</td>\n",
       "      <td>secondary</td>\n",
       "      <td>no</td>\n",
       "      <td>2.0</td>\n",
       "      <td>yes</td>\n",
       "      <td>no</td>\n",
       "      <td>unknown</td>\n",
       "      <td>886</td>\n",
       "      <td>20</td>\n",
       "      <td>may</td>\n",
       "      <td>3.0</td>\n",
       "      <td>0</td>\n",
       "      <td>unknown</td>\n",
       "      <td>0</td>\n",
       "    </tr>\n",
       "    <tr>\n",
       "      <th>3</th>\n",
       "      <td>id_12681</td>\n",
       "      <td>65.0</td>\n",
       "      <td>retired</td>\n",
       "      <td>married</td>\n",
       "      <td>primary</td>\n",
       "      <td>no</td>\n",
       "      <td>2880.0</td>\n",
       "      <td>no</td>\n",
       "      <td>no</td>\n",
       "      <td>cellular</td>\n",
       "      <td>913</td>\n",
       "      <td>23</td>\n",
       "      <td>apr</td>\n",
       "      <td>1.0</td>\n",
       "      <td>0</td>\n",
       "      <td>unknown</td>\n",
       "      <td>1</td>\n",
       "    </tr>\n",
       "    <tr>\n",
       "      <th>4</th>\n",
       "      <td>id_2153</td>\n",
       "      <td>52.0</td>\n",
       "      <td>blue-collar</td>\n",
       "      <td>married</td>\n",
       "      <td>tertiary</td>\n",
       "      <td>no</td>\n",
       "      <td>1779.0</td>\n",
       "      <td>no</td>\n",
       "      <td>no</td>\n",
       "      <td>cellular</td>\n",
       "      <td>703</td>\n",
       "      <td>19</td>\n",
       "      <td>nov</td>\n",
       "      <td>3.0</td>\n",
       "      <td>1</td>\n",
       "      <td>failure</td>\n",
       "      <td>0</td>\n",
       "    </tr>\n",
       "  </tbody>\n",
       "</table>\n",
       "</div>"
      ],
      "text/plain": [
       "  customer_id  customer_age     job_type  marital  education default  balance  \\\n",
       "0    id_43823          28.0   management   single   tertiary      no    285.0   \n",
       "1    id_10523          46.0   technician  married  secondary      no    656.0   \n",
       "2    id_43951          34.0     services   single  secondary      no      2.0   \n",
       "3    id_12681          65.0      retired  married    primary      no   2880.0   \n",
       "4     id_2153          52.0  blue-collar  married   tertiary      no   1779.0   \n",
       "\n",
       "  housing_loan personal_loan communication_type  last_contact_duration  \\\n",
       "0          yes            no            unknown                    849   \n",
       "1           no            no           cellular                    990   \n",
       "2          yes            no            unknown                    886   \n",
       "3           no            no           cellular                    913   \n",
       "4           no            no           cellular                    703   \n",
       "\n",
       "   day_of_month month  num_contacts_in_campaign  num_contacts_prev_campaign  \\\n",
       "0            26   jun                       4.0                           0   \n",
       "1             5   feb                       4.0                           0   \n",
       "2            20   may                       3.0                           0   \n",
       "3            23   apr                       1.0                           0   \n",
       "4            19   nov                       3.0                           1   \n",
       "\n",
       "  prev_campaign_outcome  term_deposit_outcome  \n",
       "0               unknown                     0  \n",
       "1               unknown                     0  \n",
       "2               unknown                     0  \n",
       "3               unknown                     1  \n",
       "4               failure                     0  "
      ]
     },
     "execution_count": 83,
     "metadata": {},
     "output_type": "execute_result"
    }
   ],
   "source": [
    "newdata.head()"
   ]
  },
  {
   "cell_type": "code",
   "execution_count": 85,
   "id": "251e810c",
   "metadata": {},
   "outputs": [],
   "source": [
    "finaloutput = newdata[newdata['term_deposit_outcome'] == 1]"
   ]
  },
  {
   "cell_type": "code",
   "execution_count": 91,
   "id": "27dc8b25",
   "metadata": {},
   "outputs": [
    {
     "data": {
      "text/html": [
       "<div>\n",
       "<style scoped>\n",
       "    .dataframe tbody tr th:only-of-type {\n",
       "        vertical-align: middle;\n",
       "    }\n",
       "\n",
       "    .dataframe tbody tr th {\n",
       "        vertical-align: top;\n",
       "    }\n",
       "\n",
       "    .dataframe thead th {\n",
       "        text-align: right;\n",
       "    }\n",
       "</style>\n",
       "<table border=\"1\" class=\"dataframe\">\n",
       "  <thead>\n",
       "    <tr style=\"text-align: right;\">\n",
       "      <th></th>\n",
       "      <th>customer_id</th>\n",
       "      <th>customer_age</th>\n",
       "      <th>job_type</th>\n",
       "      <th>marital</th>\n",
       "      <th>education</th>\n",
       "      <th>default</th>\n",
       "      <th>balance</th>\n",
       "      <th>housing_loan</th>\n",
       "      <th>personal_loan</th>\n",
       "      <th>communication_type</th>\n",
       "      <th>last_contact_duration</th>\n",
       "      <th>day_of_month</th>\n",
       "      <th>month</th>\n",
       "      <th>num_contacts_in_campaign</th>\n",
       "      <th>num_contacts_prev_campaign</th>\n",
       "      <th>prev_campaign_outcome</th>\n",
       "      <th>term_deposit_outcome</th>\n",
       "    </tr>\n",
       "  </thead>\n",
       "  <tbody>\n",
       "    <tr>\n",
       "      <th>3</th>\n",
       "      <td>id_12681</td>\n",
       "      <td>65.0</td>\n",
       "      <td>retired</td>\n",
       "      <td>married</td>\n",
       "      <td>primary</td>\n",
       "      <td>no</td>\n",
       "      <td>2880.0</td>\n",
       "      <td>no</td>\n",
       "      <td>no</td>\n",
       "      <td>cellular</td>\n",
       "      <td>913</td>\n",
       "      <td>23</td>\n",
       "      <td>apr</td>\n",
       "      <td>1.0</td>\n",
       "      <td>0</td>\n",
       "      <td>unknown</td>\n",
       "      <td>1</td>\n",
       "    </tr>\n",
       "    <tr>\n",
       "      <th>9</th>\n",
       "      <td>id_13459</td>\n",
       "      <td>30.0</td>\n",
       "      <td>self-employed</td>\n",
       "      <td>married</td>\n",
       "      <td>secondary</td>\n",
       "      <td>no</td>\n",
       "      <td>580.0</td>\n",
       "      <td>yes</td>\n",
       "      <td>no</td>\n",
       "      <td>cellular</td>\n",
       "      <td>740</td>\n",
       "      <td>13</td>\n",
       "      <td>oct</td>\n",
       "      <td>1.0</td>\n",
       "      <td>6</td>\n",
       "      <td>failure</td>\n",
       "      <td>1</td>\n",
       "    </tr>\n",
       "    <tr>\n",
       "      <th>36</th>\n",
       "      <td>id_5003</td>\n",
       "      <td>21.0</td>\n",
       "      <td>student</td>\n",
       "      <td>single</td>\n",
       "      <td>secondary</td>\n",
       "      <td>no</td>\n",
       "      <td>4127.0</td>\n",
       "      <td>no</td>\n",
       "      <td>no</td>\n",
       "      <td>cellular</td>\n",
       "      <td>931</td>\n",
       "      <td>5</td>\n",
       "      <td>apr</td>\n",
       "      <td>4.0</td>\n",
       "      <td>7</td>\n",
       "      <td>failure</td>\n",
       "      <td>1</td>\n",
       "    </tr>\n",
       "    <tr>\n",
       "      <th>38</th>\n",
       "      <td>id_31092</td>\n",
       "      <td>46.0</td>\n",
       "      <td>self-employed</td>\n",
       "      <td>married</td>\n",
       "      <td>secondary</td>\n",
       "      <td>no</td>\n",
       "      <td>1563.0</td>\n",
       "      <td>no</td>\n",
       "      <td>no</td>\n",
       "      <td>cellular</td>\n",
       "      <td>668</td>\n",
       "      <td>24</td>\n",
       "      <td>dec</td>\n",
       "      <td>3.0</td>\n",
       "      <td>3</td>\n",
       "      <td>failure</td>\n",
       "      <td>1</td>\n",
       "    </tr>\n",
       "    <tr>\n",
       "      <th>40</th>\n",
       "      <td>id_15029</td>\n",
       "      <td>45.0</td>\n",
       "      <td>management</td>\n",
       "      <td>married</td>\n",
       "      <td>tertiary</td>\n",
       "      <td>no</td>\n",
       "      <td>0.0</td>\n",
       "      <td>no</td>\n",
       "      <td>no</td>\n",
       "      <td>cellular</td>\n",
       "      <td>859</td>\n",
       "      <td>16</td>\n",
       "      <td>jun</td>\n",
       "      <td>2.0</td>\n",
       "      <td>0</td>\n",
       "      <td>unknown</td>\n",
       "      <td>1</td>\n",
       "    </tr>\n",
       "  </tbody>\n",
       "</table>\n",
       "</div>"
      ],
      "text/plain": [
       "   customer_id  customer_age       job_type  marital  education default  \\\n",
       "3     id_12681          65.0        retired  married    primary      no   \n",
       "9     id_13459          30.0  self-employed  married  secondary      no   \n",
       "36     id_5003          21.0        student   single  secondary      no   \n",
       "38    id_31092          46.0  self-employed  married  secondary      no   \n",
       "40    id_15029          45.0     management  married   tertiary      no   \n",
       "\n",
       "    balance housing_loan personal_loan communication_type  \\\n",
       "3    2880.0           no            no           cellular   \n",
       "9     580.0          yes            no           cellular   \n",
       "36   4127.0           no            no           cellular   \n",
       "38   1563.0           no            no           cellular   \n",
       "40      0.0           no            no           cellular   \n",
       "\n",
       "    last_contact_duration  day_of_month month  num_contacts_in_campaign  \\\n",
       "3                     913            23   apr                       1.0   \n",
       "9                     740            13   oct                       1.0   \n",
       "36                    931             5   apr                       4.0   \n",
       "38                    668            24   dec                       3.0   \n",
       "40                    859            16   jun                       2.0   \n",
       "\n",
       "    num_contacts_prev_campaign prev_campaign_outcome  term_deposit_outcome  \n",
       "3                            0               unknown                     1  \n",
       "9                            6               failure                     1  \n",
       "36                           7               failure                     1  \n",
       "38                           3               failure                     1  \n",
       "40                           0               unknown                     1  "
      ]
     },
     "execution_count": 91,
     "metadata": {},
     "output_type": "execute_result"
    }
   ],
   "source": [
    "finaloutput.head()"
   ]
  },
  {
   "cell_type": "code",
   "execution_count": 89,
   "id": "e1cc4c75",
   "metadata": {},
   "outputs": [],
   "source": [
    "onlycustid = finaloutput[['customer_id']]"
   ]
  },
  {
   "cell_type": "code",
   "execution_count": 90,
   "id": "1dc0ce36",
   "metadata": {},
   "outputs": [],
   "source": [
    "onlycustid.to_csv('final.csv')"
   ]
  },
  {
   "cell_type": "code",
   "execution_count": null,
   "id": "fa84ec50",
   "metadata": {},
   "outputs": [],
   "source": []
  }
 ],
 "metadata": {
  "kernelspec": {
   "display_name": "Python 3 (ipykernel)",
   "language": "python",
   "name": "python3"
  },
  "language_info": {
   "codemirror_mode": {
    "name": "ipython",
    "version": 3
   },
   "file_extension": ".py",
   "mimetype": "text/x-python",
   "name": "python",
   "nbconvert_exporter": "python",
   "pygments_lexer": "ipython3",
   "version": "3.9.7"
  }
 },
 "nbformat": 4,
 "nbformat_minor": 5
}
